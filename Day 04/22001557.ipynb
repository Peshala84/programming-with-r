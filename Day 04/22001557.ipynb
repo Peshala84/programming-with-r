{
 "cells": [
  {
   "cell_type": "markdown",
   "id": "d7b180a8-9cac-4484-9592-8a0f35d61120",
   "metadata": {},
   "source": [
    "# Take Home Assigment"
   ]
  },
  {
   "cell_type": "markdown",
   "id": "5b00e841-8d8a-4447-9a3e-d3ae58426fdd",
   "metadata": {},
   "source": [
    "## Question 01"
   ]
  },
  {
   "cell_type": "code",
   "execution_count": 1,
   "id": "03334c7d-93a9-43d7-a171-5b6e4966587d",
   "metadata": {},
   "outputs": [],
   "source": [
    "set.seed(22001557)"
   ]
  },
  {
   "cell_type": "markdown",
   "id": "ed77d848-1ff6-4fd4-9102-bea145e819be",
   "metadata": {},
   "source": [
    "### I "
   ]
  },
  {
   "cell_type": "code",
   "execution_count": 2,
   "id": "e89a7a91-3956-4b87-896b-e40f7366d937",
   "metadata": {},
   "outputs": [
    {
     "data": {
      "text/html": [
       "<style>\n",
       ".list-inline {list-style: none; margin:0; padding: 0}\n",
       ".list-inline>li {display: inline-block}\n",
       ".list-inline>li:not(:last-child)::after {content: \"\\00b7\"; padding: 0 .5ex}\n",
       "</style>\n",
       "<ol class=list-inline><li>'E1001'</li><li>'E1002'</li><li>'E1003'</li><li>'E1004'</li><li>'E1005'</li><li>'E1006'</li><li>'E1007'</li><li>'E1008'</li><li>'E1009'</li><li>'E1010'</li><li>'E1011'</li><li>'E1012'</li><li>'E1013'</li><li>'E1014'</li><li>'E1015'</li><li>'E1016'</li><li>'E1017'</li><li>'E1018'</li><li>'E1019'</li><li>'E1020'</li><li>'E1021'</li><li>'E1022'</li><li>'E1023'</li><li>'E1024'</li><li>'E1025'</li><li>'E1026'</li><li>'E1027'</li><li>'E1028'</li><li>'E1029'</li><li>'E1030'</li><li>'E1031'</li><li>'E1032'</li><li>'E1033'</li><li>'E1034'</li><li>'E1035'</li><li>'E1036'</li><li>'E1037'</li><li>'E1038'</li><li>'E1039'</li><li>'E1040'</li><li>'E1041'</li><li>'E1042'</li><li>'E1043'</li><li>'E1044'</li><li>'E1045'</li><li>'E1046'</li><li>'E1047'</li><li>'E1048'</li><li>'E1049'</li><li>'E1050'</li></ol>\n"
      ],
      "text/latex": [
       "\\begin{enumerate*}\n",
       "\\item 'E1001'\n",
       "\\item 'E1002'\n",
       "\\item 'E1003'\n",
       "\\item 'E1004'\n",
       "\\item 'E1005'\n",
       "\\item 'E1006'\n",
       "\\item 'E1007'\n",
       "\\item 'E1008'\n",
       "\\item 'E1009'\n",
       "\\item 'E1010'\n",
       "\\item 'E1011'\n",
       "\\item 'E1012'\n",
       "\\item 'E1013'\n",
       "\\item 'E1014'\n",
       "\\item 'E1015'\n",
       "\\item 'E1016'\n",
       "\\item 'E1017'\n",
       "\\item 'E1018'\n",
       "\\item 'E1019'\n",
       "\\item 'E1020'\n",
       "\\item 'E1021'\n",
       "\\item 'E1022'\n",
       "\\item 'E1023'\n",
       "\\item 'E1024'\n",
       "\\item 'E1025'\n",
       "\\item 'E1026'\n",
       "\\item 'E1027'\n",
       "\\item 'E1028'\n",
       "\\item 'E1029'\n",
       "\\item 'E1030'\n",
       "\\item 'E1031'\n",
       "\\item 'E1032'\n",
       "\\item 'E1033'\n",
       "\\item 'E1034'\n",
       "\\item 'E1035'\n",
       "\\item 'E1036'\n",
       "\\item 'E1037'\n",
       "\\item 'E1038'\n",
       "\\item 'E1039'\n",
       "\\item 'E1040'\n",
       "\\item 'E1041'\n",
       "\\item 'E1042'\n",
       "\\item 'E1043'\n",
       "\\item 'E1044'\n",
       "\\item 'E1045'\n",
       "\\item 'E1046'\n",
       "\\item 'E1047'\n",
       "\\item 'E1048'\n",
       "\\item 'E1049'\n",
       "\\item 'E1050'\n",
       "\\end{enumerate*}\n"
      ],
      "text/markdown": [
       "1. 'E1001'\n",
       "2. 'E1002'\n",
       "3. 'E1003'\n",
       "4. 'E1004'\n",
       "5. 'E1005'\n",
       "6. 'E1006'\n",
       "7. 'E1007'\n",
       "8. 'E1008'\n",
       "9. 'E1009'\n",
       "10. 'E1010'\n",
       "11. 'E1011'\n",
       "12. 'E1012'\n",
       "13. 'E1013'\n",
       "14. 'E1014'\n",
       "15. 'E1015'\n",
       "16. 'E1016'\n",
       "17. 'E1017'\n",
       "18. 'E1018'\n",
       "19. 'E1019'\n",
       "20. 'E1020'\n",
       "21. 'E1021'\n",
       "22. 'E1022'\n",
       "23. 'E1023'\n",
       "24. 'E1024'\n",
       "25. 'E1025'\n",
       "26. 'E1026'\n",
       "27. 'E1027'\n",
       "28. 'E1028'\n",
       "29. 'E1029'\n",
       "30. 'E1030'\n",
       "31. 'E1031'\n",
       "32. 'E1032'\n",
       "33. 'E1033'\n",
       "34. 'E1034'\n",
       "35. 'E1035'\n",
       "36. 'E1036'\n",
       "37. 'E1037'\n",
       "38. 'E1038'\n",
       "39. 'E1039'\n",
       "40. 'E1040'\n",
       "41. 'E1041'\n",
       "42. 'E1042'\n",
       "43. 'E1043'\n",
       "44. 'E1044'\n",
       "45. 'E1045'\n",
       "46. 'E1046'\n",
       "47. 'E1047'\n",
       "48. 'E1048'\n",
       "49. 'E1049'\n",
       "50. 'E1050'\n",
       "\n",
       "\n"
      ],
      "text/plain": [
       " [1] \"E1001\" \"E1002\" \"E1003\" \"E1004\" \"E1005\" \"E1006\" \"E1007\" \"E1008\" \"E1009\"\n",
       "[10] \"E1010\" \"E1011\" \"E1012\" \"E1013\" \"E1014\" \"E1015\" \"E1016\" \"E1017\" \"E1018\"\n",
       "[19] \"E1019\" \"E1020\" \"E1021\" \"E1022\" \"E1023\" \"E1024\" \"E1025\" \"E1026\" \"E1027\"\n",
       "[28] \"E1028\" \"E1029\" \"E1030\" \"E1031\" \"E1032\" \"E1033\" \"E1034\" \"E1035\" \"E1036\"\n",
       "[37] \"E1037\" \"E1038\" \"E1039\" \"E1040\" \"E1041\" \"E1042\" \"E1043\" \"E1044\" \"E1045\"\n",
       "[46] \"E1046\" \"E1047\" \"E1048\" \"E1049\" \"E1050\""
      ]
     },
     "metadata": {},
     "output_type": "display_data"
    }
   ],
   "source": [
    "employee_ids <- paste0(\"E\", 1001:1050)\n",
    "employee_ids"
   ]
  },
  {
   "cell_type": "markdown",
   "id": "800e3001-b03f-4694-abbf-3d8473c11c34",
   "metadata": {},
   "source": [
    "### II"
   ]
  },
  {
   "cell_type": "code",
   "execution_count": 3,
   "id": "69e34150-ac01-48d0-a243-f4b51e2201d0",
   "metadata": {},
   "outputs": [
    {
     "data": {
      "text/html": [
       "<style>\n",
       ".list-inline {list-style: none; margin:0; padding: 0}\n",
       ".list-inline>li {display: inline-block}\n",
       ".list-inline>li:not(:last-child)::after {content: \"\\00b7\"; padding: 0 .5ex}\n",
       "</style>\n",
       "<ol class=list-inline><li>'Male'</li><li>'Female'</li><li>'Male'</li><li>'Female'</li><li>'Male'</li><li>'Male'</li><li>'Male'</li><li>'Male'</li><li>'Male'</li><li>'Female'</li><li>'Male'</li><li>'Male'</li><li>'Male'</li><li>'Male'</li><li>'Male'</li><li>'Male'</li><li>'Male'</li><li>'Male'</li><li>'Male'</li><li>'Male'</li><li>'Male'</li><li>'Male'</li><li>'Female'</li><li>'Male'</li><li>'Female'</li><li>'Male'</li><li>'Female'</li><li>'Female'</li><li>'Male'</li><li>'Male'</li><li>'Male'</li><li>'Female'</li><li>'Female'</li><li>'Male'</li><li>'Male'</li><li>'Male'</li><li>'Male'</li><li>'Male'</li><li>'Male'</li><li>'Male'</li><li>'Male'</li><li>'Male'</li><li>'Male'</li><li>'Male'</li><li>'Male'</li><li>'Male'</li><li>'Male'</li><li>'Male'</li><li>'Female'</li><li>'Female'</li></ol>\n"
      ],
      "text/latex": [
       "\\begin{enumerate*}\n",
       "\\item 'Male'\n",
       "\\item 'Female'\n",
       "\\item 'Male'\n",
       "\\item 'Female'\n",
       "\\item 'Male'\n",
       "\\item 'Male'\n",
       "\\item 'Male'\n",
       "\\item 'Male'\n",
       "\\item 'Male'\n",
       "\\item 'Female'\n",
       "\\item 'Male'\n",
       "\\item 'Male'\n",
       "\\item 'Male'\n",
       "\\item 'Male'\n",
       "\\item 'Male'\n",
       "\\item 'Male'\n",
       "\\item 'Male'\n",
       "\\item 'Male'\n",
       "\\item 'Male'\n",
       "\\item 'Male'\n",
       "\\item 'Male'\n",
       "\\item 'Male'\n",
       "\\item 'Female'\n",
       "\\item 'Male'\n",
       "\\item 'Female'\n",
       "\\item 'Male'\n",
       "\\item 'Female'\n",
       "\\item 'Female'\n",
       "\\item 'Male'\n",
       "\\item 'Male'\n",
       "\\item 'Male'\n",
       "\\item 'Female'\n",
       "\\item 'Female'\n",
       "\\item 'Male'\n",
       "\\item 'Male'\n",
       "\\item 'Male'\n",
       "\\item 'Male'\n",
       "\\item 'Male'\n",
       "\\item 'Male'\n",
       "\\item 'Male'\n",
       "\\item 'Male'\n",
       "\\item 'Male'\n",
       "\\item 'Male'\n",
       "\\item 'Male'\n",
       "\\item 'Male'\n",
       "\\item 'Male'\n",
       "\\item 'Male'\n",
       "\\item 'Male'\n",
       "\\item 'Female'\n",
       "\\item 'Female'\n",
       "\\end{enumerate*}\n"
      ],
      "text/markdown": [
       "1. 'Male'\n",
       "2. 'Female'\n",
       "3. 'Male'\n",
       "4. 'Female'\n",
       "5. 'Male'\n",
       "6. 'Male'\n",
       "7. 'Male'\n",
       "8. 'Male'\n",
       "9. 'Male'\n",
       "10. 'Female'\n",
       "11. 'Male'\n",
       "12. 'Male'\n",
       "13. 'Male'\n",
       "14. 'Male'\n",
       "15. 'Male'\n",
       "16. 'Male'\n",
       "17. 'Male'\n",
       "18. 'Male'\n",
       "19. 'Male'\n",
       "20. 'Male'\n",
       "21. 'Male'\n",
       "22. 'Male'\n",
       "23. 'Female'\n",
       "24. 'Male'\n",
       "25. 'Female'\n",
       "26. 'Male'\n",
       "27. 'Female'\n",
       "28. 'Female'\n",
       "29. 'Male'\n",
       "30. 'Male'\n",
       "31. 'Male'\n",
       "32. 'Female'\n",
       "33. 'Female'\n",
       "34. 'Male'\n",
       "35. 'Male'\n",
       "36. 'Male'\n",
       "37. 'Male'\n",
       "38. 'Male'\n",
       "39. 'Male'\n",
       "40. 'Male'\n",
       "41. 'Male'\n",
       "42. 'Male'\n",
       "43. 'Male'\n",
       "44. 'Male'\n",
       "45. 'Male'\n",
       "46. 'Male'\n",
       "47. 'Male'\n",
       "48. 'Male'\n",
       "49. 'Female'\n",
       "50. 'Female'\n",
       "\n",
       "\n"
      ],
      "text/plain": [
       " [1] \"Male\"   \"Female\" \"Male\"   \"Female\" \"Male\"   \"Male\"   \"Male\"   \"Male\"  \n",
       " [9] \"Male\"   \"Female\" \"Male\"   \"Male\"   \"Male\"   \"Male\"   \"Male\"   \"Male\"  \n",
       "[17] \"Male\"   \"Male\"   \"Male\"   \"Male\"   \"Male\"   \"Male\"   \"Female\" \"Male\"  \n",
       "[25] \"Female\" \"Male\"   \"Female\" \"Female\" \"Male\"   \"Male\"   \"Male\"   \"Female\"\n",
       "[33] \"Female\" \"Male\"   \"Male\"   \"Male\"   \"Male\"   \"Male\"   \"Male\"   \"Male\"  \n",
       "[41] \"Male\"   \"Male\"   \"Male\"   \"Male\"   \"Male\"   \"Male\"   \"Male\"   \"Male\"  \n",
       "[49] \"Female\" \"Female\""
      ]
     },
     "metadata": {},
     "output_type": "display_data"
    }
   ],
   "source": [
    "genders <- sample(c(\"Male\", \"Female\"), 50, replace = TRUE, prob = c(0.75, 0.25))\n",
    "genders"
   ]
  },
  {
   "cell_type": "markdown",
   "id": "9ca06e12-d5e6-4159-b49b-8195fcd41fed",
   "metadata": {},
   "source": [
    "### III"
   ]
  },
  {
   "cell_type": "code",
   "execution_count": 4,
   "id": "d9b38cd2-efe7-46e0-a8a2-355abbfde597",
   "metadata": {},
   "outputs": [
    {
     "data": {
      "text/html": [
       "<style>\n",
       ".list-inline {list-style: none; margin:0; padding: 0}\n",
       ".list-inline>li {display: inline-block}\n",
       ".list-inline>li:not(:last-child)::after {content: \"\\00b7\"; padding: 0 .5ex}\n",
       "</style>\n",
       "<ol class=list-inline><li>30</li><li>33</li><li>38</li><li>37</li><li>28</li><li>33</li><li>37</li><li>33</li><li>34</li><li>39</li><li>40</li><li>25</li><li>29</li><li>37</li><li>40</li><li>29</li><li>32</li><li>37</li><li>30</li><li>35</li><li>38</li><li>34</li><li>31</li><li>37</li><li>25</li><li>36</li><li>29</li><li>29</li><li>40</li><li>33</li><li>27</li><li>27</li><li>30</li><li>39</li><li>29</li><li>28</li><li>31</li><li>39</li><li>28</li><li>35</li><li>28</li><li>40</li><li>25</li><li>33</li><li>27</li><li>39</li><li>35</li><li>26</li><li>29</li><li>39</li></ol>\n"
      ],
      "text/latex": [
       "\\begin{enumerate*}\n",
       "\\item 30\n",
       "\\item 33\n",
       "\\item 38\n",
       "\\item 37\n",
       "\\item 28\n",
       "\\item 33\n",
       "\\item 37\n",
       "\\item 33\n",
       "\\item 34\n",
       "\\item 39\n",
       "\\item 40\n",
       "\\item 25\n",
       "\\item 29\n",
       "\\item 37\n",
       "\\item 40\n",
       "\\item 29\n",
       "\\item 32\n",
       "\\item 37\n",
       "\\item 30\n",
       "\\item 35\n",
       "\\item 38\n",
       "\\item 34\n",
       "\\item 31\n",
       "\\item 37\n",
       "\\item 25\n",
       "\\item 36\n",
       "\\item 29\n",
       "\\item 29\n",
       "\\item 40\n",
       "\\item 33\n",
       "\\item 27\n",
       "\\item 27\n",
       "\\item 30\n",
       "\\item 39\n",
       "\\item 29\n",
       "\\item 28\n",
       "\\item 31\n",
       "\\item 39\n",
       "\\item 28\n",
       "\\item 35\n",
       "\\item 28\n",
       "\\item 40\n",
       "\\item 25\n",
       "\\item 33\n",
       "\\item 27\n",
       "\\item 39\n",
       "\\item 35\n",
       "\\item 26\n",
       "\\item 29\n",
       "\\item 39\n",
       "\\end{enumerate*}\n"
      ],
      "text/markdown": [
       "1. 30\n",
       "2. 33\n",
       "3. 38\n",
       "4. 37\n",
       "5. 28\n",
       "6. 33\n",
       "7. 37\n",
       "8. 33\n",
       "9. 34\n",
       "10. 39\n",
       "11. 40\n",
       "12. 25\n",
       "13. 29\n",
       "14. 37\n",
       "15. 40\n",
       "16. 29\n",
       "17. 32\n",
       "18. 37\n",
       "19. 30\n",
       "20. 35\n",
       "21. 38\n",
       "22. 34\n",
       "23. 31\n",
       "24. 37\n",
       "25. 25\n",
       "26. 36\n",
       "27. 29\n",
       "28. 29\n",
       "29. 40\n",
       "30. 33\n",
       "31. 27\n",
       "32. 27\n",
       "33. 30\n",
       "34. 39\n",
       "35. 29\n",
       "36. 28\n",
       "37. 31\n",
       "38. 39\n",
       "39. 28\n",
       "40. 35\n",
       "41. 28\n",
       "42. 40\n",
       "43. 25\n",
       "44. 33\n",
       "45. 27\n",
       "46. 39\n",
       "47. 35\n",
       "48. 26\n",
       "49. 29\n",
       "50. 39\n",
       "\n",
       "\n"
      ],
      "text/plain": [
       " [1] 30 33 38 37 28 33 37 33 34 39 40 25 29 37 40 29 32 37 30 35 38 34 31 37 25\n",
       "[26] 36 29 29 40 33 27 27 30 39 29 28 31 39 28 35 28 40 25 33 27 39 35 26 29 39"
      ]
     },
     "metadata": {},
     "output_type": "display_data"
    }
   ],
   "source": [
    "ages <- sample(25:40, 50, replace = TRUE)\n",
    "ages"
   ]
  },
  {
   "cell_type": "markdown",
   "id": "492ef634-e8eb-42ff-b3b1-204fcdbab0f2",
   "metadata": {},
   "source": [
    "### IV"
   ]
  },
  {
   "cell_type": "code",
   "execution_count": 5,
   "id": "48babff1-317d-41c1-bb15-6dd61ebb93ab",
   "metadata": {},
   "outputs": [
    {
     "data": {
      "text/html": [
       "<style>\n",
       ".list-inline {list-style: none; margin:0; padding: 0}\n",
       ".list-inline>li {display: inline-block}\n",
       ".list-inline>li:not(:last-child)::after {content: \"\\00b7\"; padding: 0 .5ex}\n",
       "</style>\n",
       "<ol class=list-inline><li>'Data Analyst'</li><li>'Software Engineer'</li><li>'Data Analyst'</li><li>'System Administrator'</li><li>'Data Analyst'</li><li>'Project Manager'</li><li>'Data Analyst'</li><li>'Project Manager'</li><li>'System Administrator'</li><li>'Project Manager'</li><li>'Software Engineer'</li><li>'Project Manager'</li><li>'Data Analyst'</li><li>'Software Engineer'</li><li>'Project Manager'</li><li>'Project Manager'</li><li>'System Administrator'</li><li>'System Administrator'</li><li>'Software Engineer'</li><li>'Project Manager'</li><li>'System Administrator'</li><li>'Project Manager'</li><li>'System Administrator'</li><li>'Project Manager'</li><li>'Software Engineer'</li><li>'System Administrator'</li><li>'Project Manager'</li><li>'Software Engineer'</li><li>'Data Analyst'</li><li>'Software Engineer'</li><li>'Software Engineer'</li><li>'System Administrator'</li><li>'Data Analyst'</li><li>'System Administrator'</li><li>'Data Analyst'</li><li>'Software Engineer'</li><li>'Project Manager'</li><li>'Software Engineer'</li><li>'Data Analyst'</li><li>'System Administrator'</li><li>'System Administrator'</li><li>'Software Engineer'</li><li>'Data Analyst'</li><li>'System Administrator'</li><li>'System Administrator'</li><li>'Project Manager'</li><li>'Data Analyst'</li><li>'System Administrator'</li><li>'Data Analyst'</li><li>'Software Engineer'</li></ol>\n"
      ],
      "text/latex": [
       "\\begin{enumerate*}\n",
       "\\item 'Data Analyst'\n",
       "\\item 'Software Engineer'\n",
       "\\item 'Data Analyst'\n",
       "\\item 'System Administrator'\n",
       "\\item 'Data Analyst'\n",
       "\\item 'Project Manager'\n",
       "\\item 'Data Analyst'\n",
       "\\item 'Project Manager'\n",
       "\\item 'System Administrator'\n",
       "\\item 'Project Manager'\n",
       "\\item 'Software Engineer'\n",
       "\\item 'Project Manager'\n",
       "\\item 'Data Analyst'\n",
       "\\item 'Software Engineer'\n",
       "\\item 'Project Manager'\n",
       "\\item 'Project Manager'\n",
       "\\item 'System Administrator'\n",
       "\\item 'System Administrator'\n",
       "\\item 'Software Engineer'\n",
       "\\item 'Project Manager'\n",
       "\\item 'System Administrator'\n",
       "\\item 'Project Manager'\n",
       "\\item 'System Administrator'\n",
       "\\item 'Project Manager'\n",
       "\\item 'Software Engineer'\n",
       "\\item 'System Administrator'\n",
       "\\item 'Project Manager'\n",
       "\\item 'Software Engineer'\n",
       "\\item 'Data Analyst'\n",
       "\\item 'Software Engineer'\n",
       "\\item 'Software Engineer'\n",
       "\\item 'System Administrator'\n",
       "\\item 'Data Analyst'\n",
       "\\item 'System Administrator'\n",
       "\\item 'Data Analyst'\n",
       "\\item 'Software Engineer'\n",
       "\\item 'Project Manager'\n",
       "\\item 'Software Engineer'\n",
       "\\item 'Data Analyst'\n",
       "\\item 'System Administrator'\n",
       "\\item 'System Administrator'\n",
       "\\item 'Software Engineer'\n",
       "\\item 'Data Analyst'\n",
       "\\item 'System Administrator'\n",
       "\\item 'System Administrator'\n",
       "\\item 'Project Manager'\n",
       "\\item 'Data Analyst'\n",
       "\\item 'System Administrator'\n",
       "\\item 'Data Analyst'\n",
       "\\item 'Software Engineer'\n",
       "\\end{enumerate*}\n"
      ],
      "text/markdown": [
       "1. 'Data Analyst'\n",
       "2. 'Software Engineer'\n",
       "3. 'Data Analyst'\n",
       "4. 'System Administrator'\n",
       "5. 'Data Analyst'\n",
       "6. 'Project Manager'\n",
       "7. 'Data Analyst'\n",
       "8. 'Project Manager'\n",
       "9. 'System Administrator'\n",
       "10. 'Project Manager'\n",
       "11. 'Software Engineer'\n",
       "12. 'Project Manager'\n",
       "13. 'Data Analyst'\n",
       "14. 'Software Engineer'\n",
       "15. 'Project Manager'\n",
       "16. 'Project Manager'\n",
       "17. 'System Administrator'\n",
       "18. 'System Administrator'\n",
       "19. 'Software Engineer'\n",
       "20. 'Project Manager'\n",
       "21. 'System Administrator'\n",
       "22. 'Project Manager'\n",
       "23. 'System Administrator'\n",
       "24. 'Project Manager'\n",
       "25. 'Software Engineer'\n",
       "26. 'System Administrator'\n",
       "27. 'Project Manager'\n",
       "28. 'Software Engineer'\n",
       "29. 'Data Analyst'\n",
       "30. 'Software Engineer'\n",
       "31. 'Software Engineer'\n",
       "32. 'System Administrator'\n",
       "33. 'Data Analyst'\n",
       "34. 'System Administrator'\n",
       "35. 'Data Analyst'\n",
       "36. 'Software Engineer'\n",
       "37. 'Project Manager'\n",
       "38. 'Software Engineer'\n",
       "39. 'Data Analyst'\n",
       "40. 'System Administrator'\n",
       "41. 'System Administrator'\n",
       "42. 'Software Engineer'\n",
       "43. 'Data Analyst'\n",
       "44. 'System Administrator'\n",
       "45. 'System Administrator'\n",
       "46. 'Project Manager'\n",
       "47. 'Data Analyst'\n",
       "48. 'System Administrator'\n",
       "49. 'Data Analyst'\n",
       "50. 'Software Engineer'\n",
       "\n",
       "\n"
      ],
      "text/plain": [
       " [1] \"Data Analyst\"         \"Software Engineer\"    \"Data Analyst\"        \n",
       " [4] \"System Administrator\" \"Data Analyst\"         \"Project Manager\"     \n",
       " [7] \"Data Analyst\"         \"Project Manager\"      \"System Administrator\"\n",
       "[10] \"Project Manager\"      \"Software Engineer\"    \"Project Manager\"     \n",
       "[13] \"Data Analyst\"         \"Software Engineer\"    \"Project Manager\"     \n",
       "[16] \"Project Manager\"      \"System Administrator\" \"System Administrator\"\n",
       "[19] \"Software Engineer\"    \"Project Manager\"      \"System Administrator\"\n",
       "[22] \"Project Manager\"      \"System Administrator\" \"Project Manager\"     \n",
       "[25] \"Software Engineer\"    \"System Administrator\" \"Project Manager\"     \n",
       "[28] \"Software Engineer\"    \"Data Analyst\"         \"Software Engineer\"   \n",
       "[31] \"Software Engineer\"    \"System Administrator\" \"Data Analyst\"        \n",
       "[34] \"System Administrator\" \"Data Analyst\"         \"Software Engineer\"   \n",
       "[37] \"Project Manager\"      \"Software Engineer\"    \"Data Analyst\"        \n",
       "[40] \"System Administrator\" \"System Administrator\" \"Software Engineer\"   \n",
       "[43] \"Data Analyst\"         \"System Administrator\" \"System Administrator\"\n",
       "[46] \"Project Manager\"      \"Data Analyst\"         \"System Administrator\"\n",
       "[49] \"Data Analyst\"         \"Software Engineer\"   "
      ]
     },
     "metadata": {},
     "output_type": "display_data"
    }
   ],
   "source": [
    "positions <- sample(c(\"Software Engineer\", \"Data Analyst\", \"System Administrator\", \"Project Manager\"), 50, replace = TRUE)\n",
    "positions"
   ]
  },
  {
   "cell_type": "markdown",
   "id": "872641e2-a3f9-478d-8e55-06f7300e3af9",
   "metadata": {},
   "source": [
    "### V"
   ]
  },
  {
   "cell_type": "code",
   "execution_count": 6,
   "id": "f89f33b4-98c7-4092-b8f1-a34e317dd2e5",
   "metadata": {},
   "outputs": [
    {
     "data": {
      "text/html": [
       "<style>\n",
       ".list-inline {list-style: none; margin:0; padding: 0}\n",
       ".list-inline>li {display: inline-block}\n",
       ".list-inline>li:not(:last-child)::after {content: \"\\00b7\"; padding: 0 .5ex}\n",
       "</style>\n",
       "<ol class=list-inline><li>150000</li><li>105000</li><li>195000</li><li>140000</li><li>165000</li><li>180000</li><li>150000</li><li>165000</li><li>160000</li><li>125000</li><li>125000</li><li>195000</li><li>120000</li><li>105000</li><li>125000</li><li>130000</li><li>155000</li><li>125000</li><li>180000</li><li>140000</li><li>125000</li><li>120000</li><li>145000</li><li>195000</li><li>110000</li><li>170000</li><li>130000</li><li>125000</li><li>115000</li><li>135000</li><li>150000</li><li>170000</li><li>180000</li><li>130000</li><li>195000</li><li>125000</li><li>110000</li><li>1e+05</li><li>190000</li><li>180000</li><li>160000</li><li>190000</li><li>155000</li><li>2e+05</li><li>155000</li><li>195000</li><li>175000</li><li>170000</li><li>170000</li><li>1e+05</li></ol>\n"
      ],
      "text/latex": [
       "\\begin{enumerate*}\n",
       "\\item 150000\n",
       "\\item 105000\n",
       "\\item 195000\n",
       "\\item 140000\n",
       "\\item 165000\n",
       "\\item 180000\n",
       "\\item 150000\n",
       "\\item 165000\n",
       "\\item 160000\n",
       "\\item 125000\n",
       "\\item 125000\n",
       "\\item 195000\n",
       "\\item 120000\n",
       "\\item 105000\n",
       "\\item 125000\n",
       "\\item 130000\n",
       "\\item 155000\n",
       "\\item 125000\n",
       "\\item 180000\n",
       "\\item 140000\n",
       "\\item 125000\n",
       "\\item 120000\n",
       "\\item 145000\n",
       "\\item 195000\n",
       "\\item 110000\n",
       "\\item 170000\n",
       "\\item 130000\n",
       "\\item 125000\n",
       "\\item 115000\n",
       "\\item 135000\n",
       "\\item 150000\n",
       "\\item 170000\n",
       "\\item 180000\n",
       "\\item 130000\n",
       "\\item 195000\n",
       "\\item 125000\n",
       "\\item 110000\n",
       "\\item 1e+05\n",
       "\\item 190000\n",
       "\\item 180000\n",
       "\\item 160000\n",
       "\\item 190000\n",
       "\\item 155000\n",
       "\\item 2e+05\n",
       "\\item 155000\n",
       "\\item 195000\n",
       "\\item 175000\n",
       "\\item 170000\n",
       "\\item 170000\n",
       "\\item 1e+05\n",
       "\\end{enumerate*}\n"
      ],
      "text/markdown": [
       "1. 150000\n",
       "2. 105000\n",
       "3. 195000\n",
       "4. 140000\n",
       "5. 165000\n",
       "6. 180000\n",
       "7. 150000\n",
       "8. 165000\n",
       "9. 160000\n",
       "10. 125000\n",
       "11. 125000\n",
       "12. 195000\n",
       "13. 120000\n",
       "14. 105000\n",
       "15. 125000\n",
       "16. 130000\n",
       "17. 155000\n",
       "18. 125000\n",
       "19. 180000\n",
       "20. 140000\n",
       "21. 125000\n",
       "22. 120000\n",
       "23. 145000\n",
       "24. 195000\n",
       "25. 110000\n",
       "26. 170000\n",
       "27. 130000\n",
       "28. 125000\n",
       "29. 115000\n",
       "30. 135000\n",
       "31. 150000\n",
       "32. 170000\n",
       "33. 180000\n",
       "34. 130000\n",
       "35. 195000\n",
       "36. 125000\n",
       "37. 110000\n",
       "38. 1e+05\n",
       "39. 190000\n",
       "40. 180000\n",
       "41. 160000\n",
       "42. 190000\n",
       "43. 155000\n",
       "44. 2e+05\n",
       "45. 155000\n",
       "46. 195000\n",
       "47. 175000\n",
       "48. 170000\n",
       "49. 170000\n",
       "50. 1e+05\n",
       "\n",
       "\n"
      ],
      "text/plain": [
       " [1] 150000 105000 195000 140000 165000 180000 150000 165000 160000 125000\n",
       "[11] 125000 195000 120000 105000 125000 130000 155000 125000 180000 140000\n",
       "[21] 125000 120000 145000 195000 110000 170000 130000 125000 115000 135000\n",
       "[31] 150000 170000 180000 130000 195000 125000 110000 100000 190000 180000\n",
       "[41] 160000 190000 155000 200000 155000 195000 175000 170000 170000 100000"
      ]
     },
     "metadata": {},
     "output_type": "display_data"
    }
   ],
   "source": [
    "salaries <- sample(seq(100000, 200000, 5000), 50, replace = TRUE)\n",
    "salaries"
   ]
  },
  {
   "cell_type": "markdown",
   "id": "6d2430c8-b7bb-4e87-b1be-13da7ee3e35b",
   "metadata": {},
   "source": [
    "### VI"
   ]
  },
  {
   "cell_type": "code",
   "execution_count": 7,
   "id": "69479987-cef6-4cca-8804-4e703881079a",
   "metadata": {},
   "outputs": [
    {
     "data": {
      "text/html": [
       "<style>\n",
       ".list-inline {list-style: none; margin:0; padding: 0}\n",
       ".list-inline>li {display: inline-block}\n",
       ".list-inline>li:not(:last-child)::after {content: \"\\00b7\"; padding: 0 .5ex}\n",
       "</style>\n",
       "<ol class=list-inline><li>'HR'</li><li>'HR'</li><li>'Marketing'</li><li>'HR'</li><li>'HR'</li><li>'IT'</li><li>'HR'</li><li>'Marketing'</li><li>'Finance'</li><li>'Marketing'</li><li>'IT'</li><li>'HR'</li><li>'IT'</li><li>'Finance'</li><li>'HR'</li><li>'IT'</li><li>'IT'</li><li>'HR'</li><li>'Marketing'</li><li>'IT'</li><li>'HR'</li><li>'Finance'</li><li>'IT'</li><li>'IT'</li><li>'IT'</li><li>'Finance'</li><li>'Finance'</li><li>'Marketing'</li><li>'HR'</li><li>'IT'</li><li>'Finance'</li><li>'IT'</li><li>'HR'</li><li>'Finance'</li><li>'HR'</li><li>'IT'</li><li>'HR'</li><li>'HR'</li><li>'HR'</li><li>'Marketing'</li><li>'Marketing'</li><li>'Marketing'</li><li>'Marketing'</li><li>'Marketing'</li><li>'Marketing'</li><li>'IT'</li><li>'Finance'</li><li>'Finance'</li><li>'HR'</li><li>'Marketing'</li></ol>\n"
      ],
      "text/latex": [
       "\\begin{enumerate*}\n",
       "\\item 'HR'\n",
       "\\item 'HR'\n",
       "\\item 'Marketing'\n",
       "\\item 'HR'\n",
       "\\item 'HR'\n",
       "\\item 'IT'\n",
       "\\item 'HR'\n",
       "\\item 'Marketing'\n",
       "\\item 'Finance'\n",
       "\\item 'Marketing'\n",
       "\\item 'IT'\n",
       "\\item 'HR'\n",
       "\\item 'IT'\n",
       "\\item 'Finance'\n",
       "\\item 'HR'\n",
       "\\item 'IT'\n",
       "\\item 'IT'\n",
       "\\item 'HR'\n",
       "\\item 'Marketing'\n",
       "\\item 'IT'\n",
       "\\item 'HR'\n",
       "\\item 'Finance'\n",
       "\\item 'IT'\n",
       "\\item 'IT'\n",
       "\\item 'IT'\n",
       "\\item 'Finance'\n",
       "\\item 'Finance'\n",
       "\\item 'Marketing'\n",
       "\\item 'HR'\n",
       "\\item 'IT'\n",
       "\\item 'Finance'\n",
       "\\item 'IT'\n",
       "\\item 'HR'\n",
       "\\item 'Finance'\n",
       "\\item 'HR'\n",
       "\\item 'IT'\n",
       "\\item 'HR'\n",
       "\\item 'HR'\n",
       "\\item 'HR'\n",
       "\\item 'Marketing'\n",
       "\\item 'Marketing'\n",
       "\\item 'Marketing'\n",
       "\\item 'Marketing'\n",
       "\\item 'Marketing'\n",
       "\\item 'Marketing'\n",
       "\\item 'IT'\n",
       "\\item 'Finance'\n",
       "\\item 'Finance'\n",
       "\\item 'HR'\n",
       "\\item 'Marketing'\n",
       "\\end{enumerate*}\n"
      ],
      "text/markdown": [
       "1. 'HR'\n",
       "2. 'HR'\n",
       "3. 'Marketing'\n",
       "4. 'HR'\n",
       "5. 'HR'\n",
       "6. 'IT'\n",
       "7. 'HR'\n",
       "8. 'Marketing'\n",
       "9. 'Finance'\n",
       "10. 'Marketing'\n",
       "11. 'IT'\n",
       "12. 'HR'\n",
       "13. 'IT'\n",
       "14. 'Finance'\n",
       "15. 'HR'\n",
       "16. 'IT'\n",
       "17. 'IT'\n",
       "18. 'HR'\n",
       "19. 'Marketing'\n",
       "20. 'IT'\n",
       "21. 'HR'\n",
       "22. 'Finance'\n",
       "23. 'IT'\n",
       "24. 'IT'\n",
       "25. 'IT'\n",
       "26. 'Finance'\n",
       "27. 'Finance'\n",
       "28. 'Marketing'\n",
       "29. 'HR'\n",
       "30. 'IT'\n",
       "31. 'Finance'\n",
       "32. 'IT'\n",
       "33. 'HR'\n",
       "34. 'Finance'\n",
       "35. 'HR'\n",
       "36. 'IT'\n",
       "37. 'HR'\n",
       "38. 'HR'\n",
       "39. 'HR'\n",
       "40. 'Marketing'\n",
       "41. 'Marketing'\n",
       "42. 'Marketing'\n",
       "43. 'Marketing'\n",
       "44. 'Marketing'\n",
       "45. 'Marketing'\n",
       "46. 'IT'\n",
       "47. 'Finance'\n",
       "48. 'Finance'\n",
       "49. 'HR'\n",
       "50. 'Marketing'\n",
       "\n",
       "\n"
      ],
      "text/plain": [
       " [1] \"HR\"        \"HR\"        \"Marketing\" \"HR\"        \"HR\"        \"IT\"       \n",
       " [7] \"HR\"        \"Marketing\" \"Finance\"   \"Marketing\" \"IT\"        \"HR\"       \n",
       "[13] \"IT\"        \"Finance\"   \"HR\"        \"IT\"        \"IT\"        \"HR\"       \n",
       "[19] \"Marketing\" \"IT\"        \"HR\"        \"Finance\"   \"IT\"        \"IT\"       \n",
       "[25] \"IT\"        \"Finance\"   \"Finance\"   \"Marketing\" \"HR\"        \"IT\"       \n",
       "[31] \"Finance\"   \"IT\"        \"HR\"        \"Finance\"   \"HR\"        \"IT\"       \n",
       "[37] \"HR\"        \"HR\"        \"HR\"        \"Marketing\" \"Marketing\" \"Marketing\"\n",
       "[43] \"Marketing\" \"Marketing\" \"Marketing\" \"IT\"        \"Finance\"   \"Finance\"  \n",
       "[49] \"HR\"        \"Marketing\""
      ]
     },
     "metadata": {},
     "output_type": "display_data"
    }
   ],
   "source": [
    "departments <- sample(c(\"IT\", \"Finance\", \"HR\", \"Marketing\"), 50, replace = TRUE)\n",
    "departments"
   ]
  },
  {
   "cell_type": "markdown",
   "id": "0da69108-3df3-4ecd-a796-460c7c1784dc",
   "metadata": {},
   "source": [
    "### VII"
   ]
  },
  {
   "cell_type": "code",
   "execution_count": 8,
   "id": "5462636e-7f15-429f-bc1e-eb81f0a33992",
   "metadata": {},
   "outputs": [
    {
     "data": {
      "text/html": [
       "<style>\n",
       ".list-inline {list-style: none; margin:0; padding: 0}\n",
       ".list-inline>li {display: inline-block}\n",
       ".list-inline>li:not(:last-child)::after {content: \"\\00b7\"; padding: 0 .5ex}\n",
       "</style>\n",
       "<ol class=list-inline><li>20000</li><li>11000</li><li>18000</li><li>5000</li><li>20000</li><li>15000</li><li>19000</li><li>19000</li><li>6000</li><li>14000</li><li>18000</li><li>5000</li><li>16000</li><li>19000</li><li>12000</li><li>18000</li><li>11000</li><li>20000</li><li>11000</li><li>13000</li><li>13000</li><li>11000</li><li>16000</li><li>5000</li><li>20000</li><li>10000</li><li>5000</li><li>14000</li><li>14000</li><li>16000</li><li>15000</li><li>18000</li><li>16000</li><li>11000</li><li>15000</li><li>20000</li><li>16000</li><li>20000</li><li>19000</li><li>20000</li><li>12000</li><li>18000</li><li>13000</li><li>19000</li><li>7000</li><li>18000</li><li>5000</li><li>15000</li><li>8000</li><li>11000</li></ol>\n"
      ],
      "text/latex": [
       "\\begin{enumerate*}\n",
       "\\item 20000\n",
       "\\item 11000\n",
       "\\item 18000\n",
       "\\item 5000\n",
       "\\item 20000\n",
       "\\item 15000\n",
       "\\item 19000\n",
       "\\item 19000\n",
       "\\item 6000\n",
       "\\item 14000\n",
       "\\item 18000\n",
       "\\item 5000\n",
       "\\item 16000\n",
       "\\item 19000\n",
       "\\item 12000\n",
       "\\item 18000\n",
       "\\item 11000\n",
       "\\item 20000\n",
       "\\item 11000\n",
       "\\item 13000\n",
       "\\item 13000\n",
       "\\item 11000\n",
       "\\item 16000\n",
       "\\item 5000\n",
       "\\item 20000\n",
       "\\item 10000\n",
       "\\item 5000\n",
       "\\item 14000\n",
       "\\item 14000\n",
       "\\item 16000\n",
       "\\item 15000\n",
       "\\item 18000\n",
       "\\item 16000\n",
       "\\item 11000\n",
       "\\item 15000\n",
       "\\item 20000\n",
       "\\item 16000\n",
       "\\item 20000\n",
       "\\item 19000\n",
       "\\item 20000\n",
       "\\item 12000\n",
       "\\item 18000\n",
       "\\item 13000\n",
       "\\item 19000\n",
       "\\item 7000\n",
       "\\item 18000\n",
       "\\item 5000\n",
       "\\item 15000\n",
       "\\item 8000\n",
       "\\item 11000\n",
       "\\end{enumerate*}\n"
      ],
      "text/markdown": [
       "1. 20000\n",
       "2. 11000\n",
       "3. 18000\n",
       "4. 5000\n",
       "5. 20000\n",
       "6. 15000\n",
       "7. 19000\n",
       "8. 19000\n",
       "9. 6000\n",
       "10. 14000\n",
       "11. 18000\n",
       "12. 5000\n",
       "13. 16000\n",
       "14. 19000\n",
       "15. 12000\n",
       "16. 18000\n",
       "17. 11000\n",
       "18. 20000\n",
       "19. 11000\n",
       "20. 13000\n",
       "21. 13000\n",
       "22. 11000\n",
       "23. 16000\n",
       "24. 5000\n",
       "25. 20000\n",
       "26. 10000\n",
       "27. 5000\n",
       "28. 14000\n",
       "29. 14000\n",
       "30. 16000\n",
       "31. 15000\n",
       "32. 18000\n",
       "33. 16000\n",
       "34. 11000\n",
       "35. 15000\n",
       "36. 20000\n",
       "37. 16000\n",
       "38. 20000\n",
       "39. 19000\n",
       "40. 20000\n",
       "41. 12000\n",
       "42. 18000\n",
       "43. 13000\n",
       "44. 19000\n",
       "45. 7000\n",
       "46. 18000\n",
       "47. 5000\n",
       "48. 15000\n",
       "49. 8000\n",
       "50. 11000\n",
       "\n",
       "\n"
      ],
      "text/plain": [
       " [1] 20000 11000 18000  5000 20000 15000 19000 19000  6000 14000 18000  5000\n",
       "[13] 16000 19000 12000 18000 11000 20000 11000 13000 13000 11000 16000  5000\n",
       "[25] 20000 10000  5000 14000 14000 16000 15000 18000 16000 11000 15000 20000\n",
       "[37] 16000 20000 19000 20000 12000 18000 13000 19000  7000 18000  5000 15000\n",
       "[49]  8000 11000"
      ]
     },
     "metadata": {},
     "output_type": "display_data"
    }
   ],
   "source": [
    "bonuses <- sample(seq(5000, 20000, 1000), 50, replace = TRUE)\n",
    "bonuses"
   ]
  },
  {
   "cell_type": "markdown",
   "id": "37e793c9-b947-47f6-8b06-9d0b4911493b",
   "metadata": {},
   "source": [
    "### VIII"
   ]
  },
  {
   "cell_type": "code",
   "execution_count": 9,
   "id": "4559f261-84cf-4463-9610-ceca230606ea",
   "metadata": {},
   "outputs": [
    {
     "data": {
      "text/html": [
       "<style>\n",
       ".list-inline {list-style: none; margin:0; padding: 0}\n",
       ".list-inline>li {display: inline-block}\n",
       ".list-inline>li:not(:last-child)::after {content: \"\\00b7\"; padding: 0 .5ex}\n",
       "</style>\n",
       "<ol class=list-inline><li>6</li><li>7</li><li>10</li><li>3</li><li>5</li><li>1</li><li>1</li><li>6</li><li>6</li><li>2</li><li>11</li><li>2</li><li>1</li><li>3</li><li>3</li><li>15</li><li>7</li><li>9</li><li>11</li><li>11</li><li>14</li><li>2</li><li>5</li><li>15</li><li>1</li><li>12</li><li>2</li><li>11</li><li>5</li><li>11</li><li>13</li><li>11</li><li>4</li><li>15</li><li>13</li><li>2</li><li>2</li><li>6</li><li>1</li><li>14</li><li>10</li><li>2</li><li>14</li><li>15</li><li>12</li><li>6</li><li>11</li><li>6</li><li>15</li><li>11</li></ol>\n"
      ],
      "text/latex": [
       "\\begin{enumerate*}\n",
       "\\item 6\n",
       "\\item 7\n",
       "\\item 10\n",
       "\\item 3\n",
       "\\item 5\n",
       "\\item 1\n",
       "\\item 1\n",
       "\\item 6\n",
       "\\item 6\n",
       "\\item 2\n",
       "\\item 11\n",
       "\\item 2\n",
       "\\item 1\n",
       "\\item 3\n",
       "\\item 3\n",
       "\\item 15\n",
       "\\item 7\n",
       "\\item 9\n",
       "\\item 11\n",
       "\\item 11\n",
       "\\item 14\n",
       "\\item 2\n",
       "\\item 5\n",
       "\\item 15\n",
       "\\item 1\n",
       "\\item 12\n",
       "\\item 2\n",
       "\\item 11\n",
       "\\item 5\n",
       "\\item 11\n",
       "\\item 13\n",
       "\\item 11\n",
       "\\item 4\n",
       "\\item 15\n",
       "\\item 13\n",
       "\\item 2\n",
       "\\item 2\n",
       "\\item 6\n",
       "\\item 1\n",
       "\\item 14\n",
       "\\item 10\n",
       "\\item 2\n",
       "\\item 14\n",
       "\\item 15\n",
       "\\item 12\n",
       "\\item 6\n",
       "\\item 11\n",
       "\\item 6\n",
       "\\item 15\n",
       "\\item 11\n",
       "\\end{enumerate*}\n"
      ],
      "text/markdown": [
       "1. 6\n",
       "2. 7\n",
       "3. 10\n",
       "4. 3\n",
       "5. 5\n",
       "6. 1\n",
       "7. 1\n",
       "8. 6\n",
       "9. 6\n",
       "10. 2\n",
       "11. 11\n",
       "12. 2\n",
       "13. 1\n",
       "14. 3\n",
       "15. 3\n",
       "16. 15\n",
       "17. 7\n",
       "18. 9\n",
       "19. 11\n",
       "20. 11\n",
       "21. 14\n",
       "22. 2\n",
       "23. 5\n",
       "24. 15\n",
       "25. 1\n",
       "26. 12\n",
       "27. 2\n",
       "28. 11\n",
       "29. 5\n",
       "30. 11\n",
       "31. 13\n",
       "32. 11\n",
       "33. 4\n",
       "34. 15\n",
       "35. 13\n",
       "36. 2\n",
       "37. 2\n",
       "38. 6\n",
       "39. 1\n",
       "40. 14\n",
       "41. 10\n",
       "42. 2\n",
       "43. 14\n",
       "44. 15\n",
       "45. 12\n",
       "46. 6\n",
       "47. 11\n",
       "48. 6\n",
       "49. 15\n",
       "50. 11\n",
       "\n",
       "\n"
      ],
      "text/plain": [
       " [1]  6  7 10  3  5  1  1  6  6  2 11  2  1  3  3 15  7  9 11 11 14  2  5 15  1\n",
       "[26] 12  2 11  5 11 13 11  4 15 13  2  2  6  1 14 10  2 14 15 12  6 11  6 15 11"
      ]
     },
     "metadata": {},
     "output_type": "display_data"
    }
   ],
   "source": [
    "years_experience <- sample(1:15, 50, replace = TRUE)\n",
    "years_experience"
   ]
  },
  {
   "cell_type": "markdown",
   "id": "9ea990ac-b6d5-458c-833b-f9fe6df1aab7",
   "metadata": {},
   "source": [
    "### IX"
   ]
  },
  {
   "cell_type": "code",
   "execution_count": 10,
   "id": "384f2a36-81c2-42f8-919b-f030a8a36999",
   "metadata": {},
   "outputs": [
    {
     "data": {
      "text/html": [
       "<style>\n",
       ".list-inline {list-style: none; margin:0; padding: 0}\n",
       ".list-inline>li {display: inline-block}\n",
       ".list-inline>li:not(:last-child)::after {content: \"\\00b7\"; padding: 0 .5ex}\n",
       "</style>\n",
       "<ol class=list-inline><li>3</li><li>1</li><li>1</li><li>2</li><li>4</li><li>2</li><li>1</li><li>5</li><li>1</li><li>5</li><li>1</li><li>3</li><li>1</li><li>4</li><li>1</li><li>4</li><li>5</li><li>5</li><li>4</li><li>5</li><li>4</li><li>1</li><li>4</li><li>3</li><li>2</li><li>5</li><li>5</li><li>2</li><li>1</li><li>5</li><li>4</li><li>5</li><li>2</li><li>4</li><li>3</li><li>3</li><li>1</li><li>5</li><li>4</li><li>5</li><li>1</li><li>5</li><li>4</li><li>5</li><li>3</li><li>4</li><li>3</li><li>3</li><li>3</li><li>4</li></ol>\n"
      ],
      "text/latex": [
       "\\begin{enumerate*}\n",
       "\\item 3\n",
       "\\item 1\n",
       "\\item 1\n",
       "\\item 2\n",
       "\\item 4\n",
       "\\item 2\n",
       "\\item 1\n",
       "\\item 5\n",
       "\\item 1\n",
       "\\item 5\n",
       "\\item 1\n",
       "\\item 3\n",
       "\\item 1\n",
       "\\item 4\n",
       "\\item 1\n",
       "\\item 4\n",
       "\\item 5\n",
       "\\item 5\n",
       "\\item 4\n",
       "\\item 5\n",
       "\\item 4\n",
       "\\item 1\n",
       "\\item 4\n",
       "\\item 3\n",
       "\\item 2\n",
       "\\item 5\n",
       "\\item 5\n",
       "\\item 2\n",
       "\\item 1\n",
       "\\item 5\n",
       "\\item 4\n",
       "\\item 5\n",
       "\\item 2\n",
       "\\item 4\n",
       "\\item 3\n",
       "\\item 3\n",
       "\\item 1\n",
       "\\item 5\n",
       "\\item 4\n",
       "\\item 5\n",
       "\\item 1\n",
       "\\item 5\n",
       "\\item 4\n",
       "\\item 5\n",
       "\\item 3\n",
       "\\item 4\n",
       "\\item 3\n",
       "\\item 3\n",
       "\\item 3\n",
       "\\item 4\n",
       "\\end{enumerate*}\n"
      ],
      "text/markdown": [
       "1. 3\n",
       "2. 1\n",
       "3. 1\n",
       "4. 2\n",
       "5. 4\n",
       "6. 2\n",
       "7. 1\n",
       "8. 5\n",
       "9. 1\n",
       "10. 5\n",
       "11. 1\n",
       "12. 3\n",
       "13. 1\n",
       "14. 4\n",
       "15. 1\n",
       "16. 4\n",
       "17. 5\n",
       "18. 5\n",
       "19. 4\n",
       "20. 5\n",
       "21. 4\n",
       "22. 1\n",
       "23. 4\n",
       "24. 3\n",
       "25. 2\n",
       "26. 5\n",
       "27. 5\n",
       "28. 2\n",
       "29. 1\n",
       "30. 5\n",
       "31. 4\n",
       "32. 5\n",
       "33. 2\n",
       "34. 4\n",
       "35. 3\n",
       "36. 3\n",
       "37. 1\n",
       "38. 5\n",
       "39. 4\n",
       "40. 5\n",
       "41. 1\n",
       "42. 5\n",
       "43. 4\n",
       "44. 5\n",
       "45. 3\n",
       "46. 4\n",
       "47. 3\n",
       "48. 3\n",
       "49. 3\n",
       "50. 4\n",
       "\n",
       "\n"
      ],
      "text/plain": [
       " [1] 3 1 1 2 4 2 1 5 1 5 1 3 1 4 1 4 5 5 4 5 4 1 4 3 2 5 5 2 1 5 4 5 2 4 3 3 1 5\n",
       "[39] 4 5 1 5 4 5 3 4 3 3 3 4"
      ]
     },
     "metadata": {},
     "output_type": "display_data"
    }
   ],
   "source": [
    "performance_ratings <- sample(1:5, 50, replace = TRUE)\n",
    "performance_ratings"
   ]
  },
  {
   "cell_type": "markdown",
   "id": "ab410d0c-5ff8-4a5b-b1af-99fe0cbb38bd",
   "metadata": {},
   "source": [
    "### X"
   ]
  },
  {
   "cell_type": "code",
   "execution_count": 11,
   "id": "f15fa7a8-f55a-47dc-99e6-79e4791aca29",
   "metadata": {},
   "outputs": [
    {
     "data": {
      "text/html": [
       "<style>\n",
       ".list-inline {list-style: none; margin:0; padding: 0}\n",
       ".list-inline>li {display: inline-block}\n",
       ".list-inline>li:not(:last-child)::after {content: \"\\00b7\"; padding: 0 .5ex}\n",
       "</style>\n",
       "<ol class=list-inline><li>'Eligible'</li><li>'Not Eligible'</li><li>'Not Eligible'</li><li>'Eligible'</li><li>'Not Eligible'</li><li>'Not Eligible'</li><li>'Not Eligible'</li><li>'Eligible'</li><li>'Eligible'</li><li>'Eligible'</li><li>'Eligible'</li><li>'Not Eligible'</li><li>'Not Eligible'</li><li>'Not Eligible'</li><li>'Not Eligible'</li><li>'Eligible'</li><li>'Eligible'</li><li>'Eligible'</li><li>'Not Eligible'</li><li>'Eligible'</li><li>'Eligible'</li><li>'Eligible'</li><li>'Eligible'</li><li>'Eligible'</li><li>'Not Eligible'</li><li>'Not Eligible'</li><li>'Eligible'</li><li>'Not Eligible'</li><li>'Not Eligible'</li><li>'Not Eligible'</li><li>'Eligible'</li><li>'Eligible'</li><li>'Not Eligible'</li><li>'Eligible'</li><li>'Not Eligible'</li><li>'Eligible'</li><li>'Eligible'</li><li>'Eligible'</li><li>'Eligible'</li><li>'Eligible'</li><li>'Eligible'</li><li>'Eligible'</li><li>'Not Eligible'</li><li>'Eligible'</li><li>'Eligible'</li><li>'Not Eligible'</li><li>'Not Eligible'</li><li>'Eligible'</li><li>'Eligible'</li><li>'Not Eligible'</li></ol>\n"
      ],
      "text/latex": [
       "\\begin{enumerate*}\n",
       "\\item 'Eligible'\n",
       "\\item 'Not Eligible'\n",
       "\\item 'Not Eligible'\n",
       "\\item 'Eligible'\n",
       "\\item 'Not Eligible'\n",
       "\\item 'Not Eligible'\n",
       "\\item 'Not Eligible'\n",
       "\\item 'Eligible'\n",
       "\\item 'Eligible'\n",
       "\\item 'Eligible'\n",
       "\\item 'Eligible'\n",
       "\\item 'Not Eligible'\n",
       "\\item 'Not Eligible'\n",
       "\\item 'Not Eligible'\n",
       "\\item 'Not Eligible'\n",
       "\\item 'Eligible'\n",
       "\\item 'Eligible'\n",
       "\\item 'Eligible'\n",
       "\\item 'Not Eligible'\n",
       "\\item 'Eligible'\n",
       "\\item 'Eligible'\n",
       "\\item 'Eligible'\n",
       "\\item 'Eligible'\n",
       "\\item 'Eligible'\n",
       "\\item 'Not Eligible'\n",
       "\\item 'Not Eligible'\n",
       "\\item 'Eligible'\n",
       "\\item 'Not Eligible'\n",
       "\\item 'Not Eligible'\n",
       "\\item 'Not Eligible'\n",
       "\\item 'Eligible'\n",
       "\\item 'Eligible'\n",
       "\\item 'Not Eligible'\n",
       "\\item 'Eligible'\n",
       "\\item 'Not Eligible'\n",
       "\\item 'Eligible'\n",
       "\\item 'Eligible'\n",
       "\\item 'Eligible'\n",
       "\\item 'Eligible'\n",
       "\\item 'Eligible'\n",
       "\\item 'Eligible'\n",
       "\\item 'Eligible'\n",
       "\\item 'Not Eligible'\n",
       "\\item 'Eligible'\n",
       "\\item 'Eligible'\n",
       "\\item 'Not Eligible'\n",
       "\\item 'Not Eligible'\n",
       "\\item 'Eligible'\n",
       "\\item 'Eligible'\n",
       "\\item 'Not Eligible'\n",
       "\\end{enumerate*}\n"
      ],
      "text/markdown": [
       "1. 'Eligible'\n",
       "2. 'Not Eligible'\n",
       "3. 'Not Eligible'\n",
       "4. 'Eligible'\n",
       "5. 'Not Eligible'\n",
       "6. 'Not Eligible'\n",
       "7. 'Not Eligible'\n",
       "8. 'Eligible'\n",
       "9. 'Eligible'\n",
       "10. 'Eligible'\n",
       "11. 'Eligible'\n",
       "12. 'Not Eligible'\n",
       "13. 'Not Eligible'\n",
       "14. 'Not Eligible'\n",
       "15. 'Not Eligible'\n",
       "16. 'Eligible'\n",
       "17. 'Eligible'\n",
       "18. 'Eligible'\n",
       "19. 'Not Eligible'\n",
       "20. 'Eligible'\n",
       "21. 'Eligible'\n",
       "22. 'Eligible'\n",
       "23. 'Eligible'\n",
       "24. 'Eligible'\n",
       "25. 'Not Eligible'\n",
       "26. 'Not Eligible'\n",
       "27. 'Eligible'\n",
       "28. 'Not Eligible'\n",
       "29. 'Not Eligible'\n",
       "30. 'Not Eligible'\n",
       "31. 'Eligible'\n",
       "32. 'Eligible'\n",
       "33. 'Not Eligible'\n",
       "34. 'Eligible'\n",
       "35. 'Not Eligible'\n",
       "36. 'Eligible'\n",
       "37. 'Eligible'\n",
       "38. 'Eligible'\n",
       "39. 'Eligible'\n",
       "40. 'Eligible'\n",
       "41. 'Eligible'\n",
       "42. 'Eligible'\n",
       "43. 'Not Eligible'\n",
       "44. 'Eligible'\n",
       "45. 'Eligible'\n",
       "46. 'Not Eligible'\n",
       "47. 'Not Eligible'\n",
       "48. 'Eligible'\n",
       "49. 'Eligible'\n",
       "50. 'Not Eligible'\n",
       "\n",
       "\n"
      ],
      "text/plain": [
       " [1] \"Eligible\"     \"Not Eligible\" \"Not Eligible\" \"Eligible\"     \"Not Eligible\"\n",
       " [6] \"Not Eligible\" \"Not Eligible\" \"Eligible\"     \"Eligible\"     \"Eligible\"    \n",
       "[11] \"Eligible\"     \"Not Eligible\" \"Not Eligible\" \"Not Eligible\" \"Not Eligible\"\n",
       "[16] \"Eligible\"     \"Eligible\"     \"Eligible\"     \"Not Eligible\" \"Eligible\"    \n",
       "[21] \"Eligible\"     \"Eligible\"     \"Eligible\"     \"Eligible\"     \"Not Eligible\"\n",
       "[26] \"Not Eligible\" \"Eligible\"     \"Not Eligible\" \"Not Eligible\" \"Not Eligible\"\n",
       "[31] \"Eligible\"     \"Eligible\"     \"Not Eligible\" \"Eligible\"     \"Not Eligible\"\n",
       "[36] \"Eligible\"     \"Eligible\"     \"Eligible\"     \"Eligible\"     \"Eligible\"    \n",
       "[41] \"Eligible\"     \"Eligible\"     \"Not Eligible\" \"Eligible\"     \"Eligible\"    \n",
       "[46] \"Not Eligible\" \"Not Eligible\" \"Eligible\"     \"Eligible\"     \"Not Eligible\""
      ]
     },
     "metadata": {},
     "output_type": "display_data"
    }
   ],
   "source": [
    "remote_eligibility <- sample(c(\"Eligible\", \"Not Eligible\"), 50, replace = TRUE, prob = c(0.6, 0.4))\n",
    "remote_eligibility"
   ]
  },
  {
   "cell_type": "markdown",
   "id": "994cd2fb-68ea-47aa-83ec-4e3433ed4e89",
   "metadata": {},
   "source": [
    "### a"
   ]
  },
  {
   "cell_type": "code",
   "execution_count": 13,
   "id": "0b0188c1-b500-466f-9a1b-aab71fc924ff",
   "metadata": {},
   "outputs": [
    {
     "name": "stdout",
     "output_type": "stream",
     "text": [
      "'data.frame':\t50 obs. of  10 variables:\n",
      " $ EmployeeID       : chr  \"E1001\" \"E1002\" \"E1003\" \"E1004\" ...\n",
      " $ Gender           : chr  \"Male\" \"Female\" \"Male\" \"Female\" ...\n",
      " $ Age              : int  30 33 38 37 28 33 37 33 34 39 ...\n",
      " $ JobPosition      : chr  \"Data Analyst\" \"Software Engineer\" \"Data Analyst\" \"System Administrator\" ...\n",
      " $ Salary           : num  150000 105000 195000 140000 165000 180000 150000 165000 160000 125000 ...\n",
      " $ Department       : chr  \"HR\" \"HR\" \"Marketing\" \"HR\" ...\n",
      " $ Bonus            : num  20000 11000 18000 5000 20000 15000 19000 19000 6000 14000 ...\n",
      " $ YearsExperience  : int  6 7 10 3 5 1 1 6 6 2 ...\n",
      " $ PerformanceRating: int  3 1 1 2 4 2 1 5 1 5 ...\n",
      " $ RemoteWork       : chr  \"Eligible\" \"Not Eligible\" \"Not Eligible\" \"Eligible\" ...\n"
     ]
    }
   ],
   "source": [
    "employee_data <- data.frame(\n",
    "  EmployeeID = employee_ids,\n",
    "  Gender = genders,\n",
    "  Age = ages,\n",
    "  JobPosition = positions,\n",
    "  Salary = salaries,\n",
    "  Department = departments,\n",
    "  Bonus = bonuses,\n",
    "  YearsExperience = years_experience,\n",
    "  PerformanceRating = performance_ratings,\n",
    "  RemoteWork = remote_eligibility\n",
    ")\n",
    "\n",
    "str(employee_data)"
   ]
  },
  {
   "cell_type": "markdown",
   "id": "675d8922-c3c7-429b-b07c-4248c801dab6",
   "metadata": {},
   "source": [
    "### b"
   ]
  },
  {
   "cell_type": "code",
   "execution_count": 14,
   "id": "5febcd2d-90be-44b8-b4ba-d3555aac3f83",
   "metadata": {},
   "outputs": [
    {
     "data": {
      "text/plain": [
       "      Age            Salary           Bonus       YearsExperience\n",
       " Min.   :25.00   Min.   :100000   Min.   : 5000   Min.   : 1.00  \n",
       " 1st Qu.:29.00   1st Qu.:125000   1st Qu.:11000   1st Qu.: 3.00  \n",
       " Median :33.00   Median :150000   Median :15000   Median : 6.50  \n",
       " Mean   :32.84   Mean   :150100   Mean   :14200   Mean   : 7.62  \n",
       " 3rd Qu.:37.00   3rd Qu.:173750   3rd Qu.:18000   3rd Qu.:11.00  \n",
       " Max.   :40.00   Max.   :200000   Max.   :20000   Max.   :15.00  \n",
       " PerformanceRating\n",
       " Min.   :1.00     \n",
       " 1st Qu.:2.00     \n",
       " Median :3.50     \n",
       " Mean   :3.22     \n",
       " 3rd Qu.:4.75     \n",
       " Max.   :5.00     "
      ]
     },
     "metadata": {},
     "output_type": "display_data"
    },
    {
     "data": {
      "text/html": [
       "<pre class=language-r><code>function (object, ...) \n",
       "UseMethod(\"summary\")</code></pre>"
      ],
      "text/latex": [
       "\\begin{minted}{r}\n",
       "function (object, ...) \n",
       "UseMethod(\"summary\")\n",
       "\\end{minted}"
      ],
      "text/markdown": [
       "```r\n",
       "function (object, ...) \n",
       "UseMethod(\"summary\")\n",
       "```"
      ],
      "text/plain": [
       "function (object, ...) \n",
       "UseMethod(\"summary\")\n",
       "<bytecode: 0x0000018f69d044a0>\n",
       "<environment: namespace:base>"
      ]
     },
     "metadata": {},
     "output_type": "display_data"
    }
   ],
   "source": [
    "summary(employee_data[, c(\"Age\", \"Salary\", \"Bonus\", \"YearsExperience\", \"PerformanceRating\")])\n",
    "summary"
   ]
  },
  {
   "cell_type": "markdown",
   "id": "0b3210df-c4be-46a0-9038-44e0116a7df7",
   "metadata": {},
   "source": [
    "### c"
   ]
  },
  {
   "cell_type": "code",
   "execution_count": 16,
   "id": "27853b6c-653b-4c80-a4a5-4e520c2c3d6f",
   "metadata": {},
   "outputs": [
    {
     "data": {
      "text/html": [
       "<style>\n",
       ".list-inline {list-style: none; margin:0; padding: 0}\n",
       ".list-inline>li {display: inline-block}\n",
       ".list-inline>li:not(:last-child)::after {content: \"\\00b7\"; padding: 0 .5ex}\n",
       "</style>\n",
       "<ol class=list-inline><li>170000</li><li>116000</li><li>213000</li><li>145000</li><li>185000</li><li>195000</li><li>169000</li><li>184000</li><li>166000</li><li>139000</li><li>143000</li><li>2e+05</li><li>136000</li><li>124000</li><li>137000</li><li>148000</li><li>166000</li><li>145000</li><li>191000</li><li>153000</li><li>138000</li><li>131000</li><li>161000</li><li>2e+05</li><li>130000</li><li>180000</li><li>135000</li><li>139000</li><li>129000</li><li>151000</li><li>165000</li><li>188000</li><li>196000</li><li>141000</li><li>210000</li><li>145000</li><li>126000</li><li>120000</li><li>209000</li><li>2e+05</li><li>172000</li><li>208000</li><li>168000</li><li>219000</li><li>162000</li><li>213000</li><li>180000</li><li>185000</li><li>178000</li><li>111000</li></ol>\n"
      ],
      "text/latex": [
       "\\begin{enumerate*}\n",
       "\\item 170000\n",
       "\\item 116000\n",
       "\\item 213000\n",
       "\\item 145000\n",
       "\\item 185000\n",
       "\\item 195000\n",
       "\\item 169000\n",
       "\\item 184000\n",
       "\\item 166000\n",
       "\\item 139000\n",
       "\\item 143000\n",
       "\\item 2e+05\n",
       "\\item 136000\n",
       "\\item 124000\n",
       "\\item 137000\n",
       "\\item 148000\n",
       "\\item 166000\n",
       "\\item 145000\n",
       "\\item 191000\n",
       "\\item 153000\n",
       "\\item 138000\n",
       "\\item 131000\n",
       "\\item 161000\n",
       "\\item 2e+05\n",
       "\\item 130000\n",
       "\\item 180000\n",
       "\\item 135000\n",
       "\\item 139000\n",
       "\\item 129000\n",
       "\\item 151000\n",
       "\\item 165000\n",
       "\\item 188000\n",
       "\\item 196000\n",
       "\\item 141000\n",
       "\\item 210000\n",
       "\\item 145000\n",
       "\\item 126000\n",
       "\\item 120000\n",
       "\\item 209000\n",
       "\\item 2e+05\n",
       "\\item 172000\n",
       "\\item 208000\n",
       "\\item 168000\n",
       "\\item 219000\n",
       "\\item 162000\n",
       "\\item 213000\n",
       "\\item 180000\n",
       "\\item 185000\n",
       "\\item 178000\n",
       "\\item 111000\n",
       "\\end{enumerate*}\n"
      ],
      "text/markdown": [
       "1. 170000\n",
       "2. 116000\n",
       "3. 213000\n",
       "4. 145000\n",
       "5. 185000\n",
       "6. 195000\n",
       "7. 169000\n",
       "8. 184000\n",
       "9. 166000\n",
       "10. 139000\n",
       "11. 143000\n",
       "12. 2e+05\n",
       "13. 136000\n",
       "14. 124000\n",
       "15. 137000\n",
       "16. 148000\n",
       "17. 166000\n",
       "18. 145000\n",
       "19. 191000\n",
       "20. 153000\n",
       "21. 138000\n",
       "22. 131000\n",
       "23. 161000\n",
       "24. 2e+05\n",
       "25. 130000\n",
       "26. 180000\n",
       "27. 135000\n",
       "28. 139000\n",
       "29. 129000\n",
       "30. 151000\n",
       "31. 165000\n",
       "32. 188000\n",
       "33. 196000\n",
       "34. 141000\n",
       "35. 210000\n",
       "36. 145000\n",
       "37. 126000\n",
       "38. 120000\n",
       "39. 209000\n",
       "40. 2e+05\n",
       "41. 172000\n",
       "42. 208000\n",
       "43. 168000\n",
       "44. 219000\n",
       "45. 162000\n",
       "46. 213000\n",
       "47. 180000\n",
       "48. 185000\n",
       "49. 178000\n",
       "50. 111000\n",
       "\n",
       "\n"
      ],
      "text/plain": [
       " [1] 170000 116000 213000 145000 185000 195000 169000 184000 166000 139000\n",
       "[11] 143000 200000 136000 124000 137000 148000 166000 145000 191000 153000\n",
       "[21] 138000 131000 161000 200000 130000 180000 135000 139000 129000 151000\n",
       "[31] 165000 188000 196000 141000 210000 145000 126000 120000 209000 200000\n",
       "[41] 172000 208000 168000 219000 162000 213000 180000 185000 178000 111000"
      ]
     },
     "metadata": {},
     "output_type": "display_data"
    }
   ],
   "source": [
    "employee_data$TotalCompensation <- employee_data$Salary + employee_data$Bonus\n",
    "employee_data$TotalCompensation"
   ]
  },
  {
   "cell_type": "markdown",
   "id": "38f064e4-0890-4faf-b785-f7bec17aec26",
   "metadata": {},
   "source": [
    "### d "
   ]
  },
  {
   "cell_type": "code",
   "execution_count": 17,
   "id": "0ff13f9f-7cf8-45e2-9e59-ab0eba164384",
   "metadata": {},
   "outputs": [
    {
     "data": {
      "text/html": [
       "<style>\n",
       ".list-inline {list-style: none; margin:0; padding: 0}\n",
       ".list-inline>li {display: inline-block}\n",
       ".list-inline>li:not(:last-child)::after {content: \"\\00b7\"; padding: 0 .5ex}\n",
       "</style>\n",
       "<ol class=list-inline><li>E1001</li><li>E1002</li><li>E1003</li><li>E1004</li><li>E1005</li><li>E1006</li><li>E1007</li><li>E1008</li><li>E1009</li><li>E1010</li><li>E1011</li><li>E1012</li><li>E1013</li><li>E1014</li><li>E1015</li><li>E1016</li><li>E1017</li><li>E1018</li><li>E1019</li><li>E1020</li><li>E1021</li><li>E1022</li><li>E1023</li><li>E1024</li><li>E1025</li><li>E1026</li><li>E1027</li><li>E1028</li><li>E1029</li><li>E1030</li><li>E1031</li><li>E1032</li><li>E1033</li><li>E1034</li><li>E1035</li><li>E1036</li><li>E1037</li><li>E1038</li><li>E1039</li><li>E1040</li><li>E1041</li><li>E1042</li><li>E1043</li><li>E1044</li><li>E1045</li><li>E1046</li><li>E1047</li><li>E1048</li><li>E1049</li><li>E1050</li></ol>\n",
       "\n",
       "<details>\n",
       "\t<summary style=display:list-item;cursor:pointer>\n",
       "\t\t<strong>Levels</strong>:\n",
       "\t</summary>\n",
       "\t<style>\n",
       "\t.list-inline {list-style: none; margin:0; padding: 0}\n",
       "\t.list-inline>li {display: inline-block}\n",
       "\t.list-inline>li:not(:last-child)::after {content: \"\\00b7\"; padding: 0 .5ex}\n",
       "\t</style>\n",
       "\t<ol class=list-inline><li>'E1001'</li><li>'E1002'</li><li>'E1003'</li><li>'E1004'</li><li>'E1005'</li><li>'E1006'</li><li>'E1007'</li><li>'E1008'</li><li>'E1009'</li><li>'E1010'</li><li>'E1011'</li><li>'E1012'</li><li>'E1013'</li><li>'E1014'</li><li>'E1015'</li><li>'E1016'</li><li>'E1017'</li><li>'E1018'</li><li>'E1019'</li><li>'E1020'</li><li>'E1021'</li><li>'E1022'</li><li>'E1023'</li><li>'E1024'</li><li>'E1025'</li><li>'E1026'</li><li>'E1027'</li><li>'E1028'</li><li>'E1029'</li><li>'E1030'</li><li>'E1031'</li><li>'E1032'</li><li>'E1033'</li><li>'E1034'</li><li>'E1035'</li><li>'E1036'</li><li>'E1037'</li><li>'E1038'</li><li>'E1039'</li><li>'E1040'</li><li>'E1041'</li><li>'E1042'</li><li>'E1043'</li><li>'E1044'</li><li>'E1045'</li><li>'E1046'</li><li>'E1047'</li><li>'E1048'</li><li>'E1049'</li><li>'E1050'</li></ol>\n",
       "</details>"
      ],
      "text/latex": [
       "\\begin{enumerate*}\n",
       "\\item E1001\n",
       "\\item E1002\n",
       "\\item E1003\n",
       "\\item E1004\n",
       "\\item E1005\n",
       "\\item E1006\n",
       "\\item E1007\n",
       "\\item E1008\n",
       "\\item E1009\n",
       "\\item E1010\n",
       "\\item E1011\n",
       "\\item E1012\n",
       "\\item E1013\n",
       "\\item E1014\n",
       "\\item E1015\n",
       "\\item E1016\n",
       "\\item E1017\n",
       "\\item E1018\n",
       "\\item E1019\n",
       "\\item E1020\n",
       "\\item E1021\n",
       "\\item E1022\n",
       "\\item E1023\n",
       "\\item E1024\n",
       "\\item E1025\n",
       "\\item E1026\n",
       "\\item E1027\n",
       "\\item E1028\n",
       "\\item E1029\n",
       "\\item E1030\n",
       "\\item E1031\n",
       "\\item E1032\n",
       "\\item E1033\n",
       "\\item E1034\n",
       "\\item E1035\n",
       "\\item E1036\n",
       "\\item E1037\n",
       "\\item E1038\n",
       "\\item E1039\n",
       "\\item E1040\n",
       "\\item E1041\n",
       "\\item E1042\n",
       "\\item E1043\n",
       "\\item E1044\n",
       "\\item E1045\n",
       "\\item E1046\n",
       "\\item E1047\n",
       "\\item E1048\n",
       "\\item E1049\n",
       "\\item E1050\n",
       "\\end{enumerate*}\n",
       "\n",
       "\\emph{Levels}: \\begin{enumerate*}\n",
       "\\item 'E1001'\n",
       "\\item 'E1002'\n",
       "\\item 'E1003'\n",
       "\\item 'E1004'\n",
       "\\item 'E1005'\n",
       "\\item 'E1006'\n",
       "\\item 'E1007'\n",
       "\\item 'E1008'\n",
       "\\item 'E1009'\n",
       "\\item 'E1010'\n",
       "\\item 'E1011'\n",
       "\\item 'E1012'\n",
       "\\item 'E1013'\n",
       "\\item 'E1014'\n",
       "\\item 'E1015'\n",
       "\\item 'E1016'\n",
       "\\item 'E1017'\n",
       "\\item 'E1018'\n",
       "\\item 'E1019'\n",
       "\\item 'E1020'\n",
       "\\item 'E1021'\n",
       "\\item 'E1022'\n",
       "\\item 'E1023'\n",
       "\\item 'E1024'\n",
       "\\item 'E1025'\n",
       "\\item 'E1026'\n",
       "\\item 'E1027'\n",
       "\\item 'E1028'\n",
       "\\item 'E1029'\n",
       "\\item 'E1030'\n",
       "\\item 'E1031'\n",
       "\\item 'E1032'\n",
       "\\item 'E1033'\n",
       "\\item 'E1034'\n",
       "\\item 'E1035'\n",
       "\\item 'E1036'\n",
       "\\item 'E1037'\n",
       "\\item 'E1038'\n",
       "\\item 'E1039'\n",
       "\\item 'E1040'\n",
       "\\item 'E1041'\n",
       "\\item 'E1042'\n",
       "\\item 'E1043'\n",
       "\\item 'E1044'\n",
       "\\item 'E1045'\n",
       "\\item 'E1046'\n",
       "\\item 'E1047'\n",
       "\\item 'E1048'\n",
       "\\item 'E1049'\n",
       "\\item 'E1050'\n",
       "\\end{enumerate*}\n"
      ],
      "text/markdown": [
       "1. E1001\n",
       "2. E1002\n",
       "3. E1003\n",
       "4. E1004\n",
       "5. E1005\n",
       "6. E1006\n",
       "7. E1007\n",
       "8. E1008\n",
       "9. E1009\n",
       "10. E1010\n",
       "11. E1011\n",
       "12. E1012\n",
       "13. E1013\n",
       "14. E1014\n",
       "15. E1015\n",
       "16. E1016\n",
       "17. E1017\n",
       "18. E1018\n",
       "19. E1019\n",
       "20. E1020\n",
       "21. E1021\n",
       "22. E1022\n",
       "23. E1023\n",
       "24. E1024\n",
       "25. E1025\n",
       "26. E1026\n",
       "27. E1027\n",
       "28. E1028\n",
       "29. E1029\n",
       "30. E1030\n",
       "31. E1031\n",
       "32. E1032\n",
       "33. E1033\n",
       "34. E1034\n",
       "35. E1035\n",
       "36. E1036\n",
       "37. E1037\n",
       "38. E1038\n",
       "39. E1039\n",
       "40. E1040\n",
       "41. E1041\n",
       "42. E1042\n",
       "43. E1043\n",
       "44. E1044\n",
       "45. E1045\n",
       "46. E1046\n",
       "47. E1047\n",
       "48. E1048\n",
       "49. E1049\n",
       "50. E1050\n",
       "\n",
       "\n",
       "\n",
       "**Levels**: 1. 'E1001'\n",
       "2. 'E1002'\n",
       "3. 'E1003'\n",
       "4. 'E1004'\n",
       "5. 'E1005'\n",
       "6. 'E1006'\n",
       "7. 'E1007'\n",
       "8. 'E1008'\n",
       "9. 'E1009'\n",
       "10. 'E1010'\n",
       "11. 'E1011'\n",
       "12. 'E1012'\n",
       "13. 'E1013'\n",
       "14. 'E1014'\n",
       "15. 'E1015'\n",
       "16. 'E1016'\n",
       "17. 'E1017'\n",
       "18. 'E1018'\n",
       "19. 'E1019'\n",
       "20. 'E1020'\n",
       "21. 'E1021'\n",
       "22. 'E1022'\n",
       "23. 'E1023'\n",
       "24. 'E1024'\n",
       "25. 'E1025'\n",
       "26. 'E1026'\n",
       "27. 'E1027'\n",
       "28. 'E1028'\n",
       "29. 'E1029'\n",
       "30. 'E1030'\n",
       "31. 'E1031'\n",
       "32. 'E1032'\n",
       "33. 'E1033'\n",
       "34. 'E1034'\n",
       "35. 'E1035'\n",
       "36. 'E1036'\n",
       "37. 'E1037'\n",
       "38. 'E1038'\n",
       "39. 'E1039'\n",
       "40. 'E1040'\n",
       "41. 'E1041'\n",
       "42. 'E1042'\n",
       "43. 'E1043'\n",
       "44. 'E1044'\n",
       "45. 'E1045'\n",
       "46. 'E1046'\n",
       "47. 'E1047'\n",
       "48. 'E1048'\n",
       "49. 'E1049'\n",
       "50. 'E1050'\n",
       "\n",
       "\n"
      ],
      "text/plain": [
       " [1] E1001 E1002 E1003 E1004 E1005 E1006 E1007 E1008 E1009 E1010 E1011 E1012\n",
       "[13] E1013 E1014 E1015 E1016 E1017 E1018 E1019 E1020 E1021 E1022 E1023 E1024\n",
       "[25] E1025 E1026 E1027 E1028 E1029 E1030 E1031 E1032 E1033 E1034 E1035 E1036\n",
       "[37] E1037 E1038 E1039 E1040 E1041 E1042 E1043 E1044 E1045 E1046 E1047 E1048\n",
       "[49] E1049 E1050\n",
       "50 Levels: E1001 E1002 E1003 E1004 E1005 E1006 E1007 E1008 E1009 ... E1050"
      ]
     },
     "metadata": {},
     "output_type": "display_data"
    }
   ],
   "source": [
    "employee_data$EmployeeID <- as.factor(employee_data$EmployeeID)\n",
    "employee_data$EmployeeID"
   ]
  },
  {
   "cell_type": "markdown",
   "id": "2a47b38a-65fd-4513-be95-05aa64ceb836",
   "metadata": {},
   "source": [
    "### e "
   ]
  },
  {
   "cell_type": "code",
   "execution_count": 19,
   "id": "6d0d4a08-49c8-4b4f-97c9-4dc7ee1efc65",
   "metadata": {},
   "outputs": [
    {
     "data": {
      "text/html": [
       "<table class=\"dataframe\">\n",
       "<caption>A data.frame: 8 × 11</caption>\n",
       "<thead>\n",
       "\t<tr><th></th><th scope=col>EmployeeID</th><th scope=col>Gender</th><th scope=col>Age</th><th scope=col>JobPosition</th><th scope=col>Salary</th><th scope=col>Department</th><th scope=col>Bonus</th><th scope=col>YearsExperience</th><th scope=col>PerformanceRating</th><th scope=col>RemoteWork</th><th scope=col>TotalCompensation</th></tr>\n",
       "\t<tr><th></th><th scope=col>&lt;fct&gt;</th><th scope=col>&lt;chr&gt;</th><th scope=col>&lt;int&gt;</th><th scope=col>&lt;chr&gt;</th><th scope=col>&lt;dbl&gt;</th><th scope=col>&lt;chr&gt;</th><th scope=col>&lt;dbl&gt;</th><th scope=col>&lt;int&gt;</th><th scope=col>&lt;int&gt;</th><th scope=col>&lt;chr&gt;</th><th scope=col>&lt;dbl&gt;</th></tr>\n",
       "</thead>\n",
       "<tbody>\n",
       "\t<tr><th scope=row>11</th><td>E1011</td><td>Male  </td><td>40</td><td>Software Engineer   </td><td>125000</td><td>IT</td><td>18000</td><td>11</td><td>1</td><td>Eligible</td><td>143000</td></tr>\n",
       "\t<tr><th scope=row>16</th><td>E1016</td><td>Male  </td><td>29</td><td>Project Manager     </td><td>130000</td><td>IT</td><td>18000</td><td>15</td><td>4</td><td>Eligible</td><td>148000</td></tr>\n",
       "\t<tr><th scope=row>17</th><td>E1017</td><td>Male  </td><td>32</td><td>System Administrator</td><td>155000</td><td>IT</td><td>11000</td><td> 7</td><td>5</td><td>Eligible</td><td>166000</td></tr>\n",
       "\t<tr><th scope=row>20</th><td>E1020</td><td>Male  </td><td>35</td><td>Project Manager     </td><td>140000</td><td>IT</td><td>13000</td><td>11</td><td>5</td><td>Eligible</td><td>153000</td></tr>\n",
       "\t<tr><th scope=row>23</th><td>E1023</td><td>Female</td><td>31</td><td>System Administrator</td><td>145000</td><td>IT</td><td>16000</td><td> 5</td><td>4</td><td>Eligible</td><td>161000</td></tr>\n",
       "\t<tr><th scope=row>24</th><td>E1024</td><td>Male  </td><td>37</td><td>Project Manager     </td><td>195000</td><td>IT</td><td> 5000</td><td>15</td><td>3</td><td>Eligible</td><td>200000</td></tr>\n",
       "\t<tr><th scope=row>32</th><td>E1032</td><td>Female</td><td>27</td><td>System Administrator</td><td>170000</td><td>IT</td><td>18000</td><td>11</td><td>5</td><td>Eligible</td><td>188000</td></tr>\n",
       "\t<tr><th scope=row>36</th><td>E1036</td><td>Male  </td><td>28</td><td>Software Engineer   </td><td>125000</td><td>IT</td><td>20000</td><td> 2</td><td>3</td><td>Eligible</td><td>145000</td></tr>\n",
       "</tbody>\n",
       "</table>\n"
      ],
      "text/latex": [
       "A data.frame: 8 × 11\n",
       "\\begin{tabular}{r|lllllllllll}\n",
       "  & EmployeeID & Gender & Age & JobPosition & Salary & Department & Bonus & YearsExperience & PerformanceRating & RemoteWork & TotalCompensation\\\\\n",
       "  & <fct> & <chr> & <int> & <chr> & <dbl> & <chr> & <dbl> & <int> & <int> & <chr> & <dbl>\\\\\n",
       "\\hline\n",
       "\t11 & E1011 & Male   & 40 & Software Engineer    & 125000 & IT & 18000 & 11 & 1 & Eligible & 143000\\\\\n",
       "\t16 & E1016 & Male   & 29 & Project Manager      & 130000 & IT & 18000 & 15 & 4 & Eligible & 148000\\\\\n",
       "\t17 & E1017 & Male   & 32 & System Administrator & 155000 & IT & 11000 &  7 & 5 & Eligible & 166000\\\\\n",
       "\t20 & E1020 & Male   & 35 & Project Manager      & 140000 & IT & 13000 & 11 & 5 & Eligible & 153000\\\\\n",
       "\t23 & E1023 & Female & 31 & System Administrator & 145000 & IT & 16000 &  5 & 4 & Eligible & 161000\\\\\n",
       "\t24 & E1024 & Male   & 37 & Project Manager      & 195000 & IT &  5000 & 15 & 3 & Eligible & 200000\\\\\n",
       "\t32 & E1032 & Female & 27 & System Administrator & 170000 & IT & 18000 & 11 & 5 & Eligible & 188000\\\\\n",
       "\t36 & E1036 & Male   & 28 & Software Engineer    & 125000 & IT & 20000 &  2 & 3 & Eligible & 145000\\\\\n",
       "\\end{tabular}\n"
      ],
      "text/markdown": [
       "\n",
       "A data.frame: 8 × 11\n",
       "\n",
       "| <!--/--> | EmployeeID &lt;fct&gt; | Gender &lt;chr&gt; | Age &lt;int&gt; | JobPosition &lt;chr&gt; | Salary &lt;dbl&gt; | Department &lt;chr&gt; | Bonus &lt;dbl&gt; | YearsExperience &lt;int&gt; | PerformanceRating &lt;int&gt; | RemoteWork &lt;chr&gt; | TotalCompensation &lt;dbl&gt; |\n",
       "|---|---|---|---|---|---|---|---|---|---|---|---|\n",
       "| 11 | E1011 | Male   | 40 | Software Engineer    | 125000 | IT | 18000 | 11 | 1 | Eligible | 143000 |\n",
       "| 16 | E1016 | Male   | 29 | Project Manager      | 130000 | IT | 18000 | 15 | 4 | Eligible | 148000 |\n",
       "| 17 | E1017 | Male   | 32 | System Administrator | 155000 | IT | 11000 |  7 | 5 | Eligible | 166000 |\n",
       "| 20 | E1020 | Male   | 35 | Project Manager      | 140000 | IT | 13000 | 11 | 5 | Eligible | 153000 |\n",
       "| 23 | E1023 | Female | 31 | System Administrator | 145000 | IT | 16000 |  5 | 4 | Eligible | 161000 |\n",
       "| 24 | E1024 | Male   | 37 | Project Manager      | 195000 | IT |  5000 | 15 | 3 | Eligible | 200000 |\n",
       "| 32 | E1032 | Female | 27 | System Administrator | 170000 | IT | 18000 | 11 | 5 | Eligible | 188000 |\n",
       "| 36 | E1036 | Male   | 28 | Software Engineer    | 125000 | IT | 20000 |  2 | 3 | Eligible | 145000 |\n",
       "\n"
      ],
      "text/plain": [
       "   EmployeeID Gender Age JobPosition          Salary Department Bonus\n",
       "11 E1011      Male   40  Software Engineer    125000 IT         18000\n",
       "16 E1016      Male   29  Project Manager      130000 IT         18000\n",
       "17 E1017      Male   32  System Administrator 155000 IT         11000\n",
       "20 E1020      Male   35  Project Manager      140000 IT         13000\n",
       "23 E1023      Female 31  System Administrator 145000 IT         16000\n",
       "24 E1024      Male   37  Project Manager      195000 IT          5000\n",
       "32 E1032      Female 27  System Administrator 170000 IT         18000\n",
       "36 E1036      Male   28  Software Engineer    125000 IT         20000\n",
       "   YearsExperience PerformanceRating RemoteWork TotalCompensation\n",
       "11 11              1                 Eligible   143000           \n",
       "16 15              4                 Eligible   148000           \n",
       "17  7              5                 Eligible   166000           \n",
       "20 11              5                 Eligible   153000           \n",
       "23  5              4                 Eligible   161000           \n",
       "24 15              3                 Eligible   200000           \n",
       "32 11              5                 Eligible   188000           \n",
       "36  2              3                 Eligible   145000           "
      ]
     },
     "metadata": {},
     "output_type": "display_data"
    }
   ],
   "source": [
    "it_remote <- subset(employee_data, Department == \"IT\" & RemoteWork == \"Eligible\")\n",
    "it_remote"
   ]
  },
  {
   "cell_type": "markdown",
   "id": "f77ed899-ffb9-4165-a1e1-52aa20cb2865",
   "metadata": {},
   "source": [
    "### f"
   ]
  },
  {
   "cell_type": "code",
   "execution_count": 20,
   "id": "77c6154e-decb-4222-b4d5-d7612af6baee",
   "metadata": {},
   "outputs": [
    {
     "data": {
      "text/html": [
       "<table class=\"dataframe\">\n",
       "<caption>A data.frame: 25 × 11</caption>\n",
       "<thead>\n",
       "\t<tr><th></th><th scope=col>EmployeeID</th><th scope=col>Gender</th><th scope=col>Age</th><th scope=col>JobPosition</th><th scope=col>Salary</th><th scope=col>Department</th><th scope=col>Bonus</th><th scope=col>YearsExperience</th><th scope=col>PerformanceRating</th><th scope=col>RemoteWork</th><th scope=col>TotalCompensation</th></tr>\n",
       "\t<tr><th></th><th scope=col>&lt;fct&gt;</th><th scope=col>&lt;chr&gt;</th><th scope=col>&lt;int&gt;</th><th scope=col>&lt;chr&gt;</th><th scope=col>&lt;dbl&gt;</th><th scope=col>&lt;chr&gt;</th><th scope=col>&lt;dbl&gt;</th><th scope=col>&lt;int&gt;</th><th scope=col>&lt;int&gt;</th><th scope=col>&lt;chr&gt;</th><th scope=col>&lt;dbl&gt;</th></tr>\n",
       "</thead>\n",
       "<tbody>\n",
       "\t<tr><th scope=row>5</th><td>E1005</td><td>Male  </td><td>28</td><td>Data Analyst        </td><td>165000</td><td>HR       </td><td>20000</td><td> 5</td><td>4</td><td>Not Eligible</td><td>185000</td></tr>\n",
       "\t<tr><th scope=row>8</th><td>E1008</td><td>Male  </td><td>33</td><td>Project Manager     </td><td>165000</td><td>Marketing</td><td>19000</td><td> 6</td><td>5</td><td>Eligible    </td><td>184000</td></tr>\n",
       "\t<tr><th scope=row>10</th><td>E1010</td><td>Female</td><td>39</td><td>Project Manager     </td><td>125000</td><td>Marketing</td><td>14000</td><td> 2</td><td>5</td><td>Eligible    </td><td>139000</td></tr>\n",
       "\t<tr><th scope=row>14</th><td>E1014</td><td>Male  </td><td>37</td><td>Software Engineer   </td><td>105000</td><td>Finance  </td><td>19000</td><td> 3</td><td>4</td><td>Not Eligible</td><td>124000</td></tr>\n",
       "\t<tr><th scope=row>16</th><td>E1016</td><td>Male  </td><td>29</td><td>Project Manager     </td><td>130000</td><td>IT       </td><td>18000</td><td>15</td><td>4</td><td>Eligible    </td><td>148000</td></tr>\n",
       "\t<tr><th scope=row>17</th><td>E1017</td><td>Male  </td><td>32</td><td>System Administrator</td><td>155000</td><td>IT       </td><td>11000</td><td> 7</td><td>5</td><td>Eligible    </td><td>166000</td></tr>\n",
       "\t<tr><th scope=row>18</th><td>E1018</td><td>Male  </td><td>37</td><td>System Administrator</td><td>125000</td><td>HR       </td><td>20000</td><td> 9</td><td>5</td><td>Eligible    </td><td>145000</td></tr>\n",
       "\t<tr><th scope=row>19</th><td>E1019</td><td>Male  </td><td>30</td><td>Software Engineer   </td><td>180000</td><td>Marketing</td><td>11000</td><td>11</td><td>4</td><td>Not Eligible</td><td>191000</td></tr>\n",
       "\t<tr><th scope=row>20</th><td>E1020</td><td>Male  </td><td>35</td><td>Project Manager     </td><td>140000</td><td>IT       </td><td>13000</td><td>11</td><td>5</td><td>Eligible    </td><td>153000</td></tr>\n",
       "\t<tr><th scope=row>21</th><td>E1021</td><td>Male  </td><td>38</td><td>System Administrator</td><td>125000</td><td>HR       </td><td>13000</td><td>14</td><td>4</td><td>Eligible    </td><td>138000</td></tr>\n",
       "\t<tr><th scope=row>23</th><td>E1023</td><td>Female</td><td>31</td><td>System Administrator</td><td>145000</td><td>IT       </td><td>16000</td><td> 5</td><td>4</td><td>Eligible    </td><td>161000</td></tr>\n",
       "\t<tr><th scope=row>26</th><td>E1026</td><td>Male  </td><td>36</td><td>System Administrator</td><td>170000</td><td>Finance  </td><td>10000</td><td>12</td><td>5</td><td>Not Eligible</td><td>180000</td></tr>\n",
       "\t<tr><th scope=row>27</th><td>E1027</td><td>Female</td><td>29</td><td>Project Manager     </td><td>130000</td><td>Finance  </td><td> 5000</td><td> 2</td><td>5</td><td>Eligible    </td><td>135000</td></tr>\n",
       "\t<tr><th scope=row>30</th><td>E1030</td><td>Male  </td><td>33</td><td>Software Engineer   </td><td>135000</td><td>IT       </td><td>16000</td><td>11</td><td>5</td><td>Not Eligible</td><td>151000</td></tr>\n",
       "\t<tr><th scope=row>31</th><td>E1031</td><td>Male  </td><td>27</td><td>Software Engineer   </td><td>150000</td><td>Finance  </td><td>15000</td><td>13</td><td>4</td><td>Eligible    </td><td>165000</td></tr>\n",
       "\t<tr><th scope=row>32</th><td>E1032</td><td>Female</td><td>27</td><td>System Administrator</td><td>170000</td><td>IT       </td><td>18000</td><td>11</td><td>5</td><td>Eligible    </td><td>188000</td></tr>\n",
       "\t<tr><th scope=row>34</th><td>E1034</td><td>Male  </td><td>39</td><td>System Administrator</td><td>130000</td><td>Finance  </td><td>11000</td><td>15</td><td>4</td><td>Eligible    </td><td>141000</td></tr>\n",
       "\t<tr><th scope=row>38</th><td>E1038</td><td>Male  </td><td>39</td><td>Software Engineer   </td><td>100000</td><td>HR       </td><td>20000</td><td> 6</td><td>5</td><td>Eligible    </td><td>120000</td></tr>\n",
       "\t<tr><th scope=row>39</th><td>E1039</td><td>Male  </td><td>28</td><td>Data Analyst        </td><td>190000</td><td>HR       </td><td>19000</td><td> 1</td><td>4</td><td>Eligible    </td><td>209000</td></tr>\n",
       "\t<tr><th scope=row>40</th><td>E1040</td><td>Male  </td><td>35</td><td>System Administrator</td><td>180000</td><td>Marketing</td><td>20000</td><td>14</td><td>5</td><td>Eligible    </td><td>200000</td></tr>\n",
       "\t<tr><th scope=row>42</th><td>E1042</td><td>Male  </td><td>40</td><td>Software Engineer   </td><td>190000</td><td>Marketing</td><td>18000</td><td> 2</td><td>5</td><td>Eligible    </td><td>208000</td></tr>\n",
       "\t<tr><th scope=row>43</th><td>E1043</td><td>Male  </td><td>25</td><td>Data Analyst        </td><td>155000</td><td>Marketing</td><td>13000</td><td>14</td><td>4</td><td>Not Eligible</td><td>168000</td></tr>\n",
       "\t<tr><th scope=row>44</th><td>E1044</td><td>Male  </td><td>33</td><td>System Administrator</td><td>200000</td><td>Marketing</td><td>19000</td><td>15</td><td>5</td><td>Eligible    </td><td>219000</td></tr>\n",
       "\t<tr><th scope=row>46</th><td>E1046</td><td>Male  </td><td>39</td><td>Project Manager     </td><td>195000</td><td>IT       </td><td>18000</td><td> 6</td><td>4</td><td>Not Eligible</td><td>213000</td></tr>\n",
       "\t<tr><th scope=row>50</th><td>E1050</td><td>Female</td><td>39</td><td>Software Engineer   </td><td>100000</td><td>Marketing</td><td>11000</td><td>11</td><td>4</td><td>Not Eligible</td><td>111000</td></tr>\n",
       "</tbody>\n",
       "</table>\n"
      ],
      "text/latex": [
       "A data.frame: 25 × 11\n",
       "\\begin{tabular}{r|lllllllllll}\n",
       "  & EmployeeID & Gender & Age & JobPosition & Salary & Department & Bonus & YearsExperience & PerformanceRating & RemoteWork & TotalCompensation\\\\\n",
       "  & <fct> & <chr> & <int> & <chr> & <dbl> & <chr> & <dbl> & <int> & <int> & <chr> & <dbl>\\\\\n",
       "\\hline\n",
       "\t5 & E1005 & Male   & 28 & Data Analyst         & 165000 & HR        & 20000 &  5 & 4 & Not Eligible & 185000\\\\\n",
       "\t8 & E1008 & Male   & 33 & Project Manager      & 165000 & Marketing & 19000 &  6 & 5 & Eligible     & 184000\\\\\n",
       "\t10 & E1010 & Female & 39 & Project Manager      & 125000 & Marketing & 14000 &  2 & 5 & Eligible     & 139000\\\\\n",
       "\t14 & E1014 & Male   & 37 & Software Engineer    & 105000 & Finance   & 19000 &  3 & 4 & Not Eligible & 124000\\\\\n",
       "\t16 & E1016 & Male   & 29 & Project Manager      & 130000 & IT        & 18000 & 15 & 4 & Eligible     & 148000\\\\\n",
       "\t17 & E1017 & Male   & 32 & System Administrator & 155000 & IT        & 11000 &  7 & 5 & Eligible     & 166000\\\\\n",
       "\t18 & E1018 & Male   & 37 & System Administrator & 125000 & HR        & 20000 &  9 & 5 & Eligible     & 145000\\\\\n",
       "\t19 & E1019 & Male   & 30 & Software Engineer    & 180000 & Marketing & 11000 & 11 & 4 & Not Eligible & 191000\\\\\n",
       "\t20 & E1020 & Male   & 35 & Project Manager      & 140000 & IT        & 13000 & 11 & 5 & Eligible     & 153000\\\\\n",
       "\t21 & E1021 & Male   & 38 & System Administrator & 125000 & HR        & 13000 & 14 & 4 & Eligible     & 138000\\\\\n",
       "\t23 & E1023 & Female & 31 & System Administrator & 145000 & IT        & 16000 &  5 & 4 & Eligible     & 161000\\\\\n",
       "\t26 & E1026 & Male   & 36 & System Administrator & 170000 & Finance   & 10000 & 12 & 5 & Not Eligible & 180000\\\\\n",
       "\t27 & E1027 & Female & 29 & Project Manager      & 130000 & Finance   &  5000 &  2 & 5 & Eligible     & 135000\\\\\n",
       "\t30 & E1030 & Male   & 33 & Software Engineer    & 135000 & IT        & 16000 & 11 & 5 & Not Eligible & 151000\\\\\n",
       "\t31 & E1031 & Male   & 27 & Software Engineer    & 150000 & Finance   & 15000 & 13 & 4 & Eligible     & 165000\\\\\n",
       "\t32 & E1032 & Female & 27 & System Administrator & 170000 & IT        & 18000 & 11 & 5 & Eligible     & 188000\\\\\n",
       "\t34 & E1034 & Male   & 39 & System Administrator & 130000 & Finance   & 11000 & 15 & 4 & Eligible     & 141000\\\\\n",
       "\t38 & E1038 & Male   & 39 & Software Engineer    & 100000 & HR        & 20000 &  6 & 5 & Eligible     & 120000\\\\\n",
       "\t39 & E1039 & Male   & 28 & Data Analyst         & 190000 & HR        & 19000 &  1 & 4 & Eligible     & 209000\\\\\n",
       "\t40 & E1040 & Male   & 35 & System Administrator & 180000 & Marketing & 20000 & 14 & 5 & Eligible     & 200000\\\\\n",
       "\t42 & E1042 & Male   & 40 & Software Engineer    & 190000 & Marketing & 18000 &  2 & 5 & Eligible     & 208000\\\\\n",
       "\t43 & E1043 & Male   & 25 & Data Analyst         & 155000 & Marketing & 13000 & 14 & 4 & Not Eligible & 168000\\\\\n",
       "\t44 & E1044 & Male   & 33 & System Administrator & 200000 & Marketing & 19000 & 15 & 5 & Eligible     & 219000\\\\\n",
       "\t46 & E1046 & Male   & 39 & Project Manager      & 195000 & IT        & 18000 &  6 & 4 & Not Eligible & 213000\\\\\n",
       "\t50 & E1050 & Female & 39 & Software Engineer    & 100000 & Marketing & 11000 & 11 & 4 & Not Eligible & 111000\\\\\n",
       "\\end{tabular}\n"
      ],
      "text/markdown": [
       "\n",
       "A data.frame: 25 × 11\n",
       "\n",
       "| <!--/--> | EmployeeID &lt;fct&gt; | Gender &lt;chr&gt; | Age &lt;int&gt; | JobPosition &lt;chr&gt; | Salary &lt;dbl&gt; | Department &lt;chr&gt; | Bonus &lt;dbl&gt; | YearsExperience &lt;int&gt; | PerformanceRating &lt;int&gt; | RemoteWork &lt;chr&gt; | TotalCompensation &lt;dbl&gt; |\n",
       "|---|---|---|---|---|---|---|---|---|---|---|---|\n",
       "| 5 | E1005 | Male   | 28 | Data Analyst         | 165000 | HR        | 20000 |  5 | 4 | Not Eligible | 185000 |\n",
       "| 8 | E1008 | Male   | 33 | Project Manager      | 165000 | Marketing | 19000 |  6 | 5 | Eligible     | 184000 |\n",
       "| 10 | E1010 | Female | 39 | Project Manager      | 125000 | Marketing | 14000 |  2 | 5 | Eligible     | 139000 |\n",
       "| 14 | E1014 | Male   | 37 | Software Engineer    | 105000 | Finance   | 19000 |  3 | 4 | Not Eligible | 124000 |\n",
       "| 16 | E1016 | Male   | 29 | Project Manager      | 130000 | IT        | 18000 | 15 | 4 | Eligible     | 148000 |\n",
       "| 17 | E1017 | Male   | 32 | System Administrator | 155000 | IT        | 11000 |  7 | 5 | Eligible     | 166000 |\n",
       "| 18 | E1018 | Male   | 37 | System Administrator | 125000 | HR        | 20000 |  9 | 5 | Eligible     | 145000 |\n",
       "| 19 | E1019 | Male   | 30 | Software Engineer    | 180000 | Marketing | 11000 | 11 | 4 | Not Eligible | 191000 |\n",
       "| 20 | E1020 | Male   | 35 | Project Manager      | 140000 | IT        | 13000 | 11 | 5 | Eligible     | 153000 |\n",
       "| 21 | E1021 | Male   | 38 | System Administrator | 125000 | HR        | 13000 | 14 | 4 | Eligible     | 138000 |\n",
       "| 23 | E1023 | Female | 31 | System Administrator | 145000 | IT        | 16000 |  5 | 4 | Eligible     | 161000 |\n",
       "| 26 | E1026 | Male   | 36 | System Administrator | 170000 | Finance   | 10000 | 12 | 5 | Not Eligible | 180000 |\n",
       "| 27 | E1027 | Female | 29 | Project Manager      | 130000 | Finance   |  5000 |  2 | 5 | Eligible     | 135000 |\n",
       "| 30 | E1030 | Male   | 33 | Software Engineer    | 135000 | IT        | 16000 | 11 | 5 | Not Eligible | 151000 |\n",
       "| 31 | E1031 | Male   | 27 | Software Engineer    | 150000 | Finance   | 15000 | 13 | 4 | Eligible     | 165000 |\n",
       "| 32 | E1032 | Female | 27 | System Administrator | 170000 | IT        | 18000 | 11 | 5 | Eligible     | 188000 |\n",
       "| 34 | E1034 | Male   | 39 | System Administrator | 130000 | Finance   | 11000 | 15 | 4 | Eligible     | 141000 |\n",
       "| 38 | E1038 | Male   | 39 | Software Engineer    | 100000 | HR        | 20000 |  6 | 5 | Eligible     | 120000 |\n",
       "| 39 | E1039 | Male   | 28 | Data Analyst         | 190000 | HR        | 19000 |  1 | 4 | Eligible     | 209000 |\n",
       "| 40 | E1040 | Male   | 35 | System Administrator | 180000 | Marketing | 20000 | 14 | 5 | Eligible     | 200000 |\n",
       "| 42 | E1042 | Male   | 40 | Software Engineer    | 190000 | Marketing | 18000 |  2 | 5 | Eligible     | 208000 |\n",
       "| 43 | E1043 | Male   | 25 | Data Analyst         | 155000 | Marketing | 13000 | 14 | 4 | Not Eligible | 168000 |\n",
       "| 44 | E1044 | Male   | 33 | System Administrator | 200000 | Marketing | 19000 | 15 | 5 | Eligible     | 219000 |\n",
       "| 46 | E1046 | Male   | 39 | Project Manager      | 195000 | IT        | 18000 |  6 | 4 | Not Eligible | 213000 |\n",
       "| 50 | E1050 | Female | 39 | Software Engineer    | 100000 | Marketing | 11000 | 11 | 4 | Not Eligible | 111000 |\n",
       "\n"
      ],
      "text/plain": [
       "   EmployeeID Gender Age JobPosition          Salary Department Bonus\n",
       "5  E1005      Male   28  Data Analyst         165000 HR         20000\n",
       "8  E1008      Male   33  Project Manager      165000 Marketing  19000\n",
       "10 E1010      Female 39  Project Manager      125000 Marketing  14000\n",
       "14 E1014      Male   37  Software Engineer    105000 Finance    19000\n",
       "16 E1016      Male   29  Project Manager      130000 IT         18000\n",
       "17 E1017      Male   32  System Administrator 155000 IT         11000\n",
       "18 E1018      Male   37  System Administrator 125000 HR         20000\n",
       "19 E1019      Male   30  Software Engineer    180000 Marketing  11000\n",
       "20 E1020      Male   35  Project Manager      140000 IT         13000\n",
       "21 E1021      Male   38  System Administrator 125000 HR         13000\n",
       "23 E1023      Female 31  System Administrator 145000 IT         16000\n",
       "26 E1026      Male   36  System Administrator 170000 Finance    10000\n",
       "27 E1027      Female 29  Project Manager      130000 Finance     5000\n",
       "30 E1030      Male   33  Software Engineer    135000 IT         16000\n",
       "31 E1031      Male   27  Software Engineer    150000 Finance    15000\n",
       "32 E1032      Female 27  System Administrator 170000 IT         18000\n",
       "34 E1034      Male   39  System Administrator 130000 Finance    11000\n",
       "38 E1038      Male   39  Software Engineer    100000 HR         20000\n",
       "39 E1039      Male   28  Data Analyst         190000 HR         19000\n",
       "40 E1040      Male   35  System Administrator 180000 Marketing  20000\n",
       "42 E1042      Male   40  Software Engineer    190000 Marketing  18000\n",
       "43 E1043      Male   25  Data Analyst         155000 Marketing  13000\n",
       "44 E1044      Male   33  System Administrator 200000 Marketing  19000\n",
       "46 E1046      Male   39  Project Manager      195000 IT         18000\n",
       "50 E1050      Female 39  Software Engineer    100000 Marketing  11000\n",
       "   YearsExperience PerformanceRating RemoteWork   TotalCompensation\n",
       "5   5              4                 Not Eligible 185000           \n",
       "8   6              5                 Eligible     184000           \n",
       "10  2              5                 Eligible     139000           \n",
       "14  3              4                 Not Eligible 124000           \n",
       "16 15              4                 Eligible     148000           \n",
       "17  7              5                 Eligible     166000           \n",
       "18  9              5                 Eligible     145000           \n",
       "19 11              4                 Not Eligible 191000           \n",
       "20 11              5                 Eligible     153000           \n",
       "21 14              4                 Eligible     138000           \n",
       "23  5              4                 Eligible     161000           \n",
       "26 12              5                 Not Eligible 180000           \n",
       "27  2              5                 Eligible     135000           \n",
       "30 11              5                 Not Eligible 151000           \n",
       "31 13              4                 Eligible     165000           \n",
       "32 11              5                 Eligible     188000           \n",
       "34 15              4                 Eligible     141000           \n",
       "38  6              5                 Eligible     120000           \n",
       "39  1              4                 Eligible     209000           \n",
       "40 14              5                 Eligible     200000           \n",
       "42  2              5                 Eligible     208000           \n",
       "43 14              4                 Not Eligible 168000           \n",
       "44 15              5                 Eligible     219000           \n",
       "46  6              4                 Not Eligible 213000           \n",
       "50 11              4                 Not Eligible 111000           "
      ]
     },
     "metadata": {},
     "output_type": "display_data"
    }
   ],
   "source": [
    "high_performance <- subset(employee_data, PerformanceRating >= 4)\n",
    "high_performance"
   ]
  },
  {
   "cell_type": "markdown",
   "id": "e9672c54-68f6-475a-b147-f48eb1e4832e",
   "metadata": {},
   "source": [
    "### g"
   ]
  },
  {
   "cell_type": "code",
   "execution_count": 24,
   "id": "9014187e-5ee1-430f-a23f-fca0ab0b12e2",
   "metadata": {},
   "outputs": [
    {
     "name": "stderr",
     "output_type": "stream",
     "text": [
      "Installing package into 'C:/Users/ASUS/AppData/Local/R/win-library/4.4'\n",
      "(as 'lib' is unspecified)\n",
      "\n"
     ]
    },
    {
     "name": "stdout",
     "output_type": "stream",
     "text": [
      "package 'dplyr' successfully unpacked and MD5 sums checked\n",
      "\n",
      "The downloaded binary packages are in\n",
      "\tC:\\Users\\ASUS\\AppData\\Local\\Temp\\RtmpcpoeYY\\downloaded_packages\n"
     ]
    }
   ],
   "source": [
    "install.packages(\"dplyr\")"
   ]
  },
  {
   "cell_type": "code",
   "execution_count": 27,
   "id": "d0d0ca27-5a1c-4f3f-9ffe-4de3282ef0f8",
   "metadata": {},
   "outputs": [
    {
     "data": {
      "text/html": [
       "<table class=\"dataframe\">\n",
       "<caption>A tibble: 4 × 2</caption>\n",
       "<thead>\n",
       "\t<tr><th scope=col>Department</th><th scope=col>AverageSalary</th></tr>\n",
       "\t<tr><th scope=col>&lt;chr&gt;</th><th scope=col>&lt;dbl&gt;</th></tr>\n",
       "</thead>\n",
       "<tbody>\n",
       "\t<tr><td>Finance  </td><td>145555.6</td></tr>\n",
       "\t<tr><td>HR       </td><td>146250.0</td></tr>\n",
       "\t<tr><td>IT       </td><td>148076.9</td></tr>\n",
       "\t<tr><td>Marketing</td><td>160833.3</td></tr>\n",
       "</tbody>\n",
       "</table>\n"
      ],
      "text/latex": [
       "A tibble: 4 × 2\n",
       "\\begin{tabular}{ll}\n",
       " Department & AverageSalary\\\\\n",
       " <chr> & <dbl>\\\\\n",
       "\\hline\n",
       "\t Finance   & 145555.6\\\\\n",
       "\t HR        & 146250.0\\\\\n",
       "\t IT        & 148076.9\\\\\n",
       "\t Marketing & 160833.3\\\\\n",
       "\\end{tabular}\n"
      ],
      "text/markdown": [
       "\n",
       "A tibble: 4 × 2\n",
       "\n",
       "| Department &lt;chr&gt; | AverageSalary &lt;dbl&gt; |\n",
       "|---|---|\n",
       "| Finance   | 145555.6 |\n",
       "| HR        | 146250.0 |\n",
       "| IT        | 148076.9 |\n",
       "| Marketing | 160833.3 |\n",
       "\n"
      ],
      "text/plain": [
       "  Department AverageSalary\n",
       "1 Finance    145555.6     \n",
       "2 HR         146250.0     \n",
       "3 IT         148076.9     \n",
       "4 Marketing  160833.3     "
      ]
     },
     "metadata": {},
     "output_type": "display_data"
    }
   ],
   "source": [
    "library(dplyr)\n",
    "salary_by_dept <- employee_data %>% group_by(Department) %>% summarise(AverageSalary = mean(Salary))\n",
    "salary_by_dept"
   ]
  },
  {
   "cell_type": "markdown",
   "id": "173a0620-0fab-4107-adfb-748348ee5a97",
   "metadata": {},
   "source": [
    "### h"
   ]
  },
  {
   "cell_type": "code",
   "execution_count": 28,
   "id": "66ff1462-0139-4797-b0b6-b3aa95e1da5d",
   "metadata": {},
   "outputs": [
    {
     "data": {
      "text/plain": [
       "\n",
       "Female   Male \n",
       "  0.22   0.78 "
      ]
     },
     "metadata": {},
     "output_type": "display_data"
    }
   ],
   "source": [
    "prop.table(table(employee_data$Gender))"
   ]
  },
  {
   "cell_type": "markdown",
   "id": "8628ecea-742b-49f9-97ed-46d238486bac",
   "metadata": {},
   "source": [
    "### i"
   ]
  },
  {
   "cell_type": "code",
   "execution_count": 29,
   "id": "f06a1d37-9447-4145-87c5-c70ddd06ab36",
   "metadata": {},
   "outputs": [
    {
     "data": {
      "image/png": "[encoded data removed]",
      "text/plain": [
       "Plot with title \"Age Distribution\""
      ]
     },
     "metadata": {
      "image/png": {
       "height": 420,
       "width": 420
      }
     },
     "output_type": "display_data"
    }
   ],
   "source": [
    "hist(employee_data$Age, main=\"Age Distribution\", xlab=\"Age\", col=\"blue\", border=\"black\")"
   ]
  },
  {
   "cell_type": "markdown",
   "id": "4f169ad7-8104-4ea3-a41f-11f554f0bc5d",
   "metadata": {},
   "source": [
    "### j"
   ]
  },
  {
   "cell_type": "code",
   "execution_count": 30,
   "id": "96992a62-bb06-4bf0-8d7a-490b637bfddb",
   "metadata": {},
   "outputs": [
    {
     "data": {
      "image/png": "[encoded data removed]",
      "text/plain": [
       "Plot with title \"Salary Distribution by Job Position\""
      ]
     },
     "metadata": {
      "image/png": {
       "height": 420,
       "width": 420
      }
     },
     "output_type": "display_data"
    }
   ],
   "source": [
    "boxplot(Salary ~ JobPosition, data=employee_data, main=\"Salary Distribution by Job Position\", xlab=\"Job Position\", ylab=\"Salary\", col=\"orange\")"
   ]
  },
  {
   "cell_type": "markdown",
   "id": "236756b0-95ad-439b-b27c-23d84b5a1fce",
   "metadata": {},
   "source": [
    "### k"
   ]
  },
  {
   "cell_type": "code",
   "execution_count": 31,
   "id": "81c4e354-72df-4352-9bd6-1496388d5554",
   "metadata": {},
   "outputs": [
    {
     "data": {
      "image/png": "[encoded data removed]",
      "text/plain": [
       "Plot with title \"Experience vs Salary\""
      ]
     },
     "metadata": {
      "image/png": {
       "height": 420,
       "width": 420
      }
     },
     "output_type": "display_data"
    }
   ],
   "source": [
    "plot(employee_data$YearsExperience, employee_data$Salary, main=\"Experience vs Salary\", xlab=\"Years of Experience\", ylab=\"Salary\", pch=19)\n",
    "abline(lm(Salary ~ YearsExperience, data=employee_data), col=\"red\")"
   ]
  },
  {
   "cell_type": "markdown",
   "id": "c546e244-a56b-485d-bda4-2d5dd18117c7",
   "metadata": {},
   "source": [
    "### i"
   ]
  },
  {
   "cell_type": "code",
   "execution_count": 32,
   "id": "7f3185f3-05d0-4b68-abc1-8b7823e13a8b",
   "metadata": {},
   "outputs": [
    {
     "data": {
      "text/html": [
       "<table class=\"dataframe\">\n",
       "<caption>A tibble: 4 × 3</caption>\n",
       "<thead>\n",
       "\t<tr><th scope=col>JobPosition</th><th scope=col>AvgBonus</th><th scope=col>AvgRating</th></tr>\n",
       "\t<tr><th scope=col>&lt;chr&gt;</th><th scope=col>&lt;dbl&gt;</th><th scope=col>&lt;dbl&gt;</th></tr>\n",
       "</thead>\n",
       "<tbody>\n",
       "\t<tr><td>Data Analyst        </td><td>15250.00</td><td>2.500000</td></tr>\n",
       "\t<tr><td>Project Manager     </td><td>12583.33</td><td>3.250000</td></tr>\n",
       "\t<tr><td>Software Engineer   </td><td>16083.33</td><td>3.333333</td></tr>\n",
       "\t<tr><td>System Administrator</td><td>13071.43</td><td>3.714286</td></tr>\n",
       "</tbody>\n",
       "</table>\n"
      ],
      "text/latex": [
       "A tibble: 4 × 3\n",
       "\\begin{tabular}{lll}\n",
       " JobPosition & AvgBonus & AvgRating\\\\\n",
       " <chr> & <dbl> & <dbl>\\\\\n",
       "\\hline\n",
       "\t Data Analyst         & 15250.00 & 2.500000\\\\\n",
       "\t Project Manager      & 12583.33 & 3.250000\\\\\n",
       "\t Software Engineer    & 16083.33 & 3.333333\\\\\n",
       "\t System Administrator & 13071.43 & 3.714286\\\\\n",
       "\\end{tabular}\n"
      ],
      "text/markdown": [
       "\n",
       "A tibble: 4 × 3\n",
       "\n",
       "| JobPosition &lt;chr&gt; | AvgBonus &lt;dbl&gt; | AvgRating &lt;dbl&gt; |\n",
       "|---|---|---|\n",
       "| Data Analyst         | 15250.00 | 2.500000 |\n",
       "| Project Manager      | 12583.33 | 3.250000 |\n",
       "| Software Engineer    | 16083.33 | 3.333333 |\n",
       "| System Administrator | 13071.43 | 3.714286 |\n",
       "\n"
      ],
      "text/plain": [
       "  JobPosition          AvgBonus AvgRating\n",
       "1 Data Analyst         15250.00 2.500000 \n",
       "2 Project Manager      12583.33 3.250000 \n",
       "3 Software Engineer    16083.33 3.333333 \n",
       "4 System Administrator 13071.43 3.714286 "
      ]
     },
     "metadata": {},
     "output_type": "display_data"
    }
   ],
   "source": [
    "employee_data %>% group_by(JobPosition) %>% summarise(AvgBonus = mean(Bonus), AvgRating = mean(PerformanceRating))"
   ]
  },
  {
   "cell_type": "markdown",
   "id": "27150b07-52ba-4ae2-87b1-2fff79f810b0",
   "metadata": {},
   "source": [
    "### m"
   ]
  },
  {
   "cell_type": "code",
   "execution_count": 33,
   "id": "c7b6b499-9ec6-40f3-9b08-f2b4e9466bfc",
   "metadata": {},
   "outputs": [
    {
     "data": {
      "text/html": [
       "<table class=\"dataframe\">\n",
       "<caption>A tibble: 2 × 2</caption>\n",
       "<thead>\n",
       "\t<tr><th scope=col>Gender</th><th scope=col>AvgExperience</th></tr>\n",
       "\t<tr><th scope=col>&lt;chr&gt;</th><th scope=col>&lt;dbl&gt;</th></tr>\n",
       "</thead>\n",
       "<tbody>\n",
       "\t<tr><td>Female</td><td>6.545455</td></tr>\n",
       "\t<tr><td>Male  </td><td>7.923077</td></tr>\n",
       "</tbody>\n",
       "</table>\n"
      ],
      "text/latex": [
       "A tibble: 2 × 2\n",
       "\\begin{tabular}{ll}\n",
       " Gender & AvgExperience\\\\\n",
       " <chr> & <dbl>\\\\\n",
       "\\hline\n",
       "\t Female & 6.545455\\\\\n",
       "\t Male   & 7.923077\\\\\n",
       "\\end{tabular}\n"
      ],
      "text/markdown": [
       "\n",
       "A tibble: 2 × 2\n",
       "\n",
       "| Gender &lt;chr&gt; | AvgExperience &lt;dbl&gt; |\n",
       "|---|---|\n",
       "| Female | 6.545455 |\n",
       "| Male   | 7.923077 |\n",
       "\n"
      ],
      "text/plain": [
       "  Gender AvgExperience\n",
       "1 Female 6.545455     \n",
       "2 Male   7.923077     "
      ]
     },
     "metadata": {},
     "output_type": "display_data"
    }
   ],
   "source": [
    "employee_data %>% group_by(Gender) %>% summarise(AvgExperience = mean(YearsExperience))"
   ]
  },
  {
   "cell_type": "markdown",
   "id": "687fe89d-94ff-4bb8-9388-eb8cc6c21427",
   "metadata": {},
   "source": [
    "### n"
   ]
  },
  {
   "cell_type": "code",
   "execution_count": 34,
   "id": "12d013f4-c482-45f7-950e-38fc61d44d0c",
   "metadata": {},
   "outputs": [
    {
     "data": {
      "text/html": [
       "<style>\n",
       ".list-inline {list-style: none; margin:0; padding: 0}\n",
       ".list-inline>li {display: inline-block}\n",
       ".list-inline>li:not(:last-child)::after {content: \"\\00b7\"; padding: 0 .5ex}\n",
       "</style>\n",
       "<ol class=list-inline><li>126200.564731993</li><li>164910.546379118</li></ol>\n"
      ],
      "text/latex": [
       "\\begin{enumerate*}\n",
       "\\item 126200.564731993\n",
       "\\item 164910.546379118\n",
       "\\end{enumerate*}\n"
      ],
      "text/markdown": [
       "1. 126200.564731993\n",
       "2. 164910.546379118\n",
       "\n",
       "\n"
      ],
      "text/plain": [
       "[1] 126200.6 164910.5\n",
       "attr(,\"conf.level\")\n",
       "[1] 0.95"
      ]
     },
     "metadata": {},
     "output_type": "display_data"
    }
   ],
   "source": [
    "finance_salaries <- employee_data$Salary[employee_data$Department == \"Finance\"]\n",
    "t.test(finance_salaries, conf.level=0.95)$conf.int"
   ]
  },
  {
   "cell_type": "markdown",
   "id": "727e59ba-47c7-466d-96ec-3ada678e2f91",
   "metadata": {},
   "source": [
    "### o"
   ]
  },
  {
   "cell_type": "code",
   "execution_count": 35,
   "id": "2d7d9f55-f016-434c-8e02-16aba7cc0362",
   "metadata": {},
   "outputs": [
    {
     "data": {
      "text/html": [
       "<dl>\n",
       "\t<dt>$num_employees</dt>\n",
       "\t\t<dd>16</dd>\n",
       "\t<dt>$avg_salary</dt>\n",
       "\t\t<dd>146250</dd>\n",
       "\t<dt>$avg_performance</dt>\n",
       "\t\t<dd>2.6875</dd>\n",
       "</dl>\n"
      ],
      "text/latex": [
       "\\begin{description}\n",
       "\\item[\\$num\\_employees] 16\n",
       "\\item[\\$avg\\_salary] 146250\n",
       "\\item[\\$avg\\_performance] 2.6875\n",
       "\\end{description}\n"
      ],
      "text/markdown": [
       "$num_employees\n",
       ":   16\n",
       "$avg_salary\n",
       ":   146250\n",
       "$avg_performance\n",
       ":   2.6875\n",
       "\n",
       "\n"
      ],
      "text/plain": [
       "$num_employees\n",
       "[1] 16\n",
       "\n",
       "$avg_salary\n",
       "[1] 146250\n",
       "\n",
       "$avg_performance\n",
       "[1] 2.6875\n"
      ]
     },
     "metadata": {},
     "output_type": "display_data"
    }
   ],
   "source": [
    "department_info <- function(dept_name) {\n",
    "  dept_data <- subset(employee_data, Department == dept_name)\n",
    "  list(\n",
    "    num_employees = nrow(dept_data),\n",
    "    avg_salary = mean(dept_data$Salary),\n",
    "    avg_performance = mean(dept_data$PerformanceRating)\n",
    "  )\n",
    "}\n",
    "\n",
    "# Test with HR department\n",
    "department_info(\"HR\")\n"
   ]
  },
  {
   "cell_type": "markdown",
   "id": "5ffe1cdb-fa21-4a99-8a3e-da12aa1e39db",
   "metadata": {},
   "source": [
    "### p"
   ]
  },
  {
   "cell_type": "code",
   "execution_count": 36,
   "id": "7d0190c7-f0ff-45b6-a4a1-2a6c35cd6617",
   "metadata": {},
   "outputs": [
    {
     "data": {
      "text/html": [
       "0.210532122124534"
      ],
      "text/latex": [
       "0.210532122124534"
      ],
      "text/markdown": [
       "0.210532122124534"
      ],
      "text/plain": [
       "[1] 0.2105321"
      ]
     },
     "metadata": {},
     "output_type": "display_data"
    }
   ],
   "source": [
    "cor(employee_data$YearsExperience, employee_data$Salary)"
   ]
  },
  {
   "cell_type": "markdown",
   "id": "2f76430a-292f-4f53-926c-5090db9d3870",
   "metadata": {},
   "source": [
    "### q "
   ]
  },
  {
   "cell_type": "code",
   "execution_count": 37,
   "id": "1e895834-29a8-452e-b5b2-531a6eb7a2fe",
   "metadata": {},
   "outputs": [
    {
     "data": {
      "text/plain": [
       "\n",
       "Call:\n",
       "lm(formula = Salary ~ YearsExperience, data = employee_data)\n",
       "\n",
       "Residuals:\n",
       "   Min     1Q Median     3Q    Max \n",
       "-54486 -25870  -1242  21345  52192 \n",
       "\n",
       "Coefficients:\n",
       "                Estimate Std. Error t value Pr(>|t|)    \n",
       "(Intercept)     140212.6     7829.7  17.908   <2e-16 ***\n",
       "YearsExperience   1297.6      869.6   1.492    0.142    \n",
       "---\n",
       "Signif. codes:  0 '***' 0.001 '**' 0.01 '*' 0.05 '.' 0.1 ' ' 1\n",
       "\n",
       "Residual standard error: 29490 on 48 degrees of freedom\n",
       "Multiple R-squared:  0.04432,\tAdjusted R-squared:  0.02441 \n",
       "F-statistic: 2.226 on 1 and 48 DF,  p-value: 0.1422\n"
      ]
     },
     "metadata": {},
     "output_type": "display_data"
    }
   ],
   "source": [
    "model <- lm(Salary ~ YearsExperience, data=employee_data)\n",
    "summary(model)"
   ]
  },
  {
   "cell_type": "markdown",
   "id": "8f616b51-a4bc-4ad4-b483-de72e7423bcd",
   "metadata": {},
   "source": [
    "### r"
   ]
  },
  {
   "cell_type": "code",
   "execution_count": 38,
   "id": "dcb02462-1242-43ae-b86e-9d0669f5d8ff",
   "metadata": {},
   "outputs": [],
   "source": [
    "write.csv(employee_data, \"employee_data.csv\", row.names=FALSE)"
   ]
  },
  {
   "cell_type": "markdown",
   "id": "58858263-26da-44d1-a870-2d688d39dffe",
   "metadata": {},
   "source": [
    "## Question 2"
   ]
  },
  {
   "cell_type": "markdown",
   "id": "cc813f65-3ea1-47c6-b5e3-5d0d8516be23",
   "metadata": {},
   "source": [
    "### a"
   ]
  },
  {
   "cell_type": "code",
   "execution_count": 40,
   "id": "676f1f02-a972-4e3e-b439-72e3759b5ea0",
   "metadata": {},
   "outputs": [
    {
     "name": "stderr",
     "output_type": "stream",
     "text": [
      "Installing package into 'C:/Users/ASUS/AppData/Local/R/win-library/4.4'\n",
      "(as 'lib' is unspecified)\n",
      "\n"
     ]
    },
    {
     "name": "stdout",
     "output_type": "stream",
     "text": [
      "package 'carData' successfully unpacked and MD5 sums checked\n",
      "\n",
      "The downloaded binary packages are in\n",
      "\tC:\\Users\\ASUS\\AppData\\Local\\Temp\\RtmpcpoeYY\\downloaded_packages\n"
     ]
    }
   ],
   "source": [
    "install.packages(\"carData\")"
   ]
  },
  {
   "cell_type": "code",
   "execution_count": 42,
   "id": "5a1154e4-3ae6-42e4-b0b9-52ed5bcfc9fa",
   "metadata": {},
   "outputs": [],
   "source": [
    "library(carData)\n",
    "data(\"Davis\")"
   ]
  },
  {
   "cell_type": "markdown",
   "id": "68836a9c-cdf5-4502-971d-0a1a41d9cc8e",
   "metadata": {},
   "source": [
    "### b"
   ]
  },
  {
   "cell_type": "code",
   "execution_count": 43,
   "id": "d3c84ec9-f215-488e-884a-562b90c7c6b8",
   "metadata": {},
   "outputs": [
    {
     "data": {
      "text/plain": [
       " sex         weight          height          repwt            repht      \n",
       " F:112   Min.   : 39.0   Min.   : 57.0   Min.   : 41.00   Min.   :148.0  \n",
       " M: 88   1st Qu.: 55.0   1st Qu.:164.0   1st Qu.: 55.00   1st Qu.:160.5  \n",
       "         Median : 63.0   Median :169.5   Median : 63.00   Median :168.0  \n",
       "         Mean   : 65.8   Mean   :170.0   Mean   : 65.62   Mean   :168.5  \n",
       "         3rd Qu.: 74.0   3rd Qu.:177.2   3rd Qu.: 73.50   3rd Qu.:175.0  \n",
       "         Max.   :166.0   Max.   :197.0   Max.   :124.00   Max.   :200.0  \n",
       "                                         NA's   :17       NA's   :17     "
      ]
     },
     "metadata": {},
     "output_type": "display_data"
    }
   ],
   "source": [
    "summary(Davis)"
   ]
  },
  {
   "cell_type": "markdown",
   "id": "57e61b66-6813-4b27-a18d-8c6790205a52",
   "metadata": {},
   "source": [
    "### c"
   ]
  },
  {
   "cell_type": "code",
   "execution_count": 44,
   "id": "86dab957-10c3-4c63-805d-568933fb08fc",
   "metadata": {},
   "outputs": [
    {
     "data": {
      "text/plain": [
       "\n",
       "\t1-sample proportions test with continuity correction\n",
       "\n",
       "data:  sum(Davis$sex == \"M\") out of nrow(Davis), null probability 0.5\n",
       "X-squared = 2.645, df = 1, p-value = 0.1039\n",
       "alternative hypothesis: true p is not equal to 0.5\n",
       "99 percent confidence interval:\n",
       " 0.3505916 0.5333663\n",
       "sample estimates:\n",
       "   p \n",
       "0.44 \n"
      ]
     },
     "metadata": {},
     "output_type": "display_data"
    }
   ],
   "source": [
    "male_prop <- sum(Davis$sex == \"M\") / nrow(Davis)\n",
    "prop.test(sum(Davis$sex == \"M\"), nrow(Davis), conf.level=0.99)"
   ]
  },
  {
   "cell_type": "markdown",
   "id": "1de0a84c-6474-43dc-8f54-fea82ec276e9",
   "metadata": {},
   "source": [
    "### d"
   ]
  },
  {
   "cell_type": "code",
   "execution_count": 45,
   "id": "e7c51ec8-df80-4f13-8f8e-2fa8b9b2a4eb",
   "metadata": {},
   "outputs": [],
   "source": [
    "males <- subset(Davis, sex == \"M\")\n",
    "females <- subset(Davis, sex == \"F\")"
   ]
  },
  {
   "cell_type": "markdown",
   "id": "f19d4cc5-faee-42d1-9a48-742023f9bf0f",
   "metadata": {},
   "source": [
    "### e"
   ]
  },
  {
   "cell_type": "code",
   "execution_count": 46,
   "id": "c8958200-7b7c-4f3e-92ef-d4ae3703e7f5",
   "metadata": {},
   "outputs": [
    {
     "data": {
      "text/plain": [
       "   Min. 1st Qu.  Median    Mean 3rd Qu.    Max. \n",
       "    163     173     178     178     183     197 "
      ]
     },
     "metadata": {},
     "output_type": "display_data"
    },
    {
     "data": {
      "text/plain": [
       "   Min. 1st Qu.  Median    Mean 3rd Qu.    Max. \n",
       "   57.0   161.0   165.0   163.7   169.0   178.0 "
      ]
     },
     "metadata": {},
     "output_type": "display_data"
    }
   ],
   "source": [
    "summary(males$height)\n",
    "summary(females$height)"
   ]
  },
  {
   "cell_type": "markdown",
   "id": "6f064397-c684-44ee-bbe8-262ab703bdff",
   "metadata": {},
   "source": [
    "### f"
   ]
  },
  {
   "cell_type": "code",
   "execution_count": 47,
   "id": "bc8a492e-6706-4075-a4cc-f390c7b2ae29",
   "metadata": {},
   "outputs": [
    {
     "data": {
      "text/html": [
       "9.70745826666026"
      ],
      "text/latex": [
       "9.70745826666026"
      ],
      "text/markdown": [
       "9.70745826666026"
      ],
      "text/plain": [
       "[1] 9.707458"
      ]
     },
     "metadata": {},
     "output_type": "display_data"
    }
   ],
   "source": [
    "s_pooled <- sqrt(((nrow(males)-1)*var(males$height) + (nrow(females)-1)*var(females$height)) / (nrow(males) + nrow(females) - 2))\n",
    "s_pooled"
   ]
  },
  {
   "cell_type": "markdown",
   "id": "1baf81fc-c612-42f0-a1ba-73d1504b3f26",
   "metadata": {},
   "source": [
    "### g"
   ]
  },
  {
   "cell_type": "code",
   "execution_count": 48,
   "id": "4991b9da-97f0-4ebb-80e1-772e629f5f94",
   "metadata": {},
   "outputs": [
    {
     "data": {
      "text/html": [
       "14.2702922077922"
      ],
      "text/latex": [
       "14.2702922077922"
      ],
      "text/markdown": [
       "14.2702922077922"
      ],
      "text/plain": [
       "[1] 14.27029"
      ]
     },
     "metadata": {},
     "output_type": "display_data"
    }
   ],
   "source": [
    "mean(males$height) - mean(females$height)"
   ]
  },
  {
   "cell_type": "code",
   "execution_count": null,
   "id": "502d5710-eeb7-4696-95f1-0f76670b2271",
   "metadata": {},
   "outputs": [],
   "source": []
  }
 ],
 "metadata": {
  "kernelspec": {
   "display_name": "R",
   "language": "R",
   "name": "ir"
  },
  "language_info": {
   "codemirror_mode": "r",
   "file_extension": ".r",
   "mimetype": "text/x-r-source",
   "name": "R",
   "pygments_lexer": "r",
   "version": "4.4.2"
  }
 },
 "nbformat": 4,
 "nbformat_minor": 5
}

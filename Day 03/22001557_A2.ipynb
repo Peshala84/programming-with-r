{
 "cells": [
  {
   "cell_type": "code",
   "execution_count": 1,
   "id": "0f4d0a52-d148-4387-93d8-2ab40c778c2f",
   "metadata": {},
   "outputs": [],
   "source": [
    "dataset <- read.csv(\"melb_data.csv\")"
   ]
  },
  {
   "cell_type": "code",
   "execution_count": 2,
   "id": "9484e455-61fa-4921-a346-6ba42ed9bd11",
   "metadata": {},
   "outputs": [
    {
     "data": {
      "text/html": [
       "<table class=\"dataframe\">\n",
       "<caption>A data.frame: 6 × 21</caption>\n",
       "<thead>\n",
       "\t<tr><th></th><th scope=col>Suburb</th><th scope=col>Address</th><th scope=col>Rooms</th><th scope=col>Type</th><th scope=col>Price</th><th scope=col>Method</th><th scope=col>SellerG</th><th scope=col>Date</th><th scope=col>Distance</th><th scope=col>Postcode</th><th scope=col>⋯</th><th scope=col>Bathroom</th><th scope=col>Car</th><th scope=col>Landsize</th><th scope=col>BuildingArea</th><th scope=col>YearBuilt</th><th scope=col>CouncilArea</th><th scope=col>Lattitude</th><th scope=col>Longtitude</th><th scope=col>Regionname</th><th scope=col>Propertycount</th></tr>\n",
       "\t<tr><th></th><th scope=col>&lt;chr&gt;</th><th scope=col>&lt;chr&gt;</th><th scope=col>&lt;int&gt;</th><th scope=col>&lt;chr&gt;</th><th scope=col>&lt;dbl&gt;</th><th scope=col>&lt;chr&gt;</th><th scope=col>&lt;chr&gt;</th><th scope=col>&lt;chr&gt;</th><th scope=col>&lt;dbl&gt;</th><th scope=col>&lt;dbl&gt;</th><th scope=col>⋯</th><th scope=col>&lt;dbl&gt;</th><th scope=col>&lt;dbl&gt;</th><th scope=col>&lt;dbl&gt;</th><th scope=col>&lt;dbl&gt;</th><th scope=col>&lt;dbl&gt;</th><th scope=col>&lt;chr&gt;</th><th scope=col>&lt;dbl&gt;</th><th scope=col>&lt;dbl&gt;</th><th scope=col>&lt;chr&gt;</th><th scope=col>&lt;dbl&gt;</th></tr>\n",
       "</thead>\n",
       "<tbody>\n",
       "\t<tr><th scope=row>1</th><td>Abbotsford</td><td>85 Turner St    </td><td>2</td><td>h</td><td>1480000</td><td>S </td><td>Biggin</td><td>3/12/2016</td><td>2.5</td><td>3067</td><td>⋯</td><td>1</td><td>1</td><td>202</td><td> NA</td><td>  NA</td><td>Yarra</td><td>-37.7996</td><td>144.9984</td><td>Northern Metropolitan</td><td>4019</td></tr>\n",
       "\t<tr><th scope=row>2</th><td>Abbotsford</td><td>25 Bloomburg St </td><td>2</td><td>h</td><td>1035000</td><td>S </td><td>Biggin</td><td>4/02/2016</td><td>2.5</td><td>3067</td><td>⋯</td><td>1</td><td>0</td><td>156</td><td> 79</td><td>1900</td><td>Yarra</td><td>-37.8079</td><td>144.9934</td><td>Northern Metropolitan</td><td>4019</td></tr>\n",
       "\t<tr><th scope=row>3</th><td>Abbotsford</td><td>5 Charles St    </td><td>3</td><td>h</td><td>1465000</td><td>SP</td><td>Biggin</td><td>4/03/2017</td><td>2.5</td><td>3067</td><td>⋯</td><td>2</td><td>0</td><td>134</td><td>150</td><td>1900</td><td>Yarra</td><td>-37.8093</td><td>144.9944</td><td>Northern Metropolitan</td><td>4019</td></tr>\n",
       "\t<tr><th scope=row>4</th><td>Abbotsford</td><td>40 Federation La</td><td>3</td><td>h</td><td> 850000</td><td>PI</td><td>Biggin</td><td>4/03/2017</td><td>2.5</td><td>3067</td><td>⋯</td><td>2</td><td>1</td><td> 94</td><td> NA</td><td>  NA</td><td>Yarra</td><td>-37.7969</td><td>144.9969</td><td>Northern Metropolitan</td><td>4019</td></tr>\n",
       "\t<tr><th scope=row>5</th><td>Abbotsford</td><td>55a Park St     </td><td>4</td><td>h</td><td>1600000</td><td>VB</td><td>Nelson</td><td>4/06/2016</td><td>2.5</td><td>3067</td><td>⋯</td><td>1</td><td>2</td><td>120</td><td>142</td><td>2014</td><td>Yarra</td><td>-37.8072</td><td>144.9941</td><td>Northern Metropolitan</td><td>4019</td></tr>\n",
       "\t<tr><th scope=row>6</th><td>Abbotsford</td><td>129 Charles St  </td><td>2</td><td>h</td><td> 941000</td><td>S </td><td>Jellis</td><td>7/05/2016</td><td>2.5</td><td>3067</td><td>⋯</td><td>1</td><td>0</td><td>181</td><td> NA</td><td>  NA</td><td>Yarra</td><td>-37.8041</td><td>144.9953</td><td>Northern Metropolitan</td><td>4019</td></tr>\n",
       "</tbody>\n",
       "</table>\n"
      ],
      "text/latex": [
       "A data.frame: 6 × 21\n",
       "\\begin{tabular}{r|lllllllllllllllllllll}\n",
       "  & Suburb & Address & Rooms & Type & Price & Method & SellerG & Date & Distance & Postcode & ⋯ & Bathroom & Car & Landsize & BuildingArea & YearBuilt & CouncilArea & Lattitude & Longtitude & Regionname & Propertycount\\\\\n",
       "  & <chr> & <chr> & <int> & <chr> & <dbl> & <chr> & <chr> & <chr> & <dbl> & <dbl> & ⋯ & <dbl> & <dbl> & <dbl> & <dbl> & <dbl> & <chr> & <dbl> & <dbl> & <chr> & <dbl>\\\\\n",
       "\\hline\n",
       "\t1 & Abbotsford & 85 Turner St     & 2 & h & 1480000 & S  & Biggin & 3/12/2016 & 2.5 & 3067 & ⋯ & 1 & 1 & 202 &  NA &   NA & Yarra & -37.7996 & 144.9984 & Northern Metropolitan & 4019\\\\\n",
       "\t2 & Abbotsford & 25 Bloomburg St  & 2 & h & 1035000 & S  & Biggin & 4/02/2016 & 2.5 & 3067 & ⋯ & 1 & 0 & 156 &  79 & 1900 & Yarra & -37.8079 & 144.9934 & Northern Metropolitan & 4019\\\\\n",
       "\t3 & Abbotsford & 5 Charles St     & 3 & h & 1465000 & SP & Biggin & 4/03/2017 & 2.5 & 3067 & ⋯ & 2 & 0 & 134 & 150 & 1900 & Yarra & -37.8093 & 144.9944 & Northern Metropolitan & 4019\\\\\n",
       "\t4 & Abbotsford & 40 Federation La & 3 & h &  850000 & PI & Biggin & 4/03/2017 & 2.5 & 3067 & ⋯ & 2 & 1 &  94 &  NA &   NA & Yarra & -37.7969 & 144.9969 & Northern Metropolitan & 4019\\\\\n",
       "\t5 & Abbotsford & 55a Park St      & 4 & h & 1600000 & VB & Nelson & 4/06/2016 & 2.5 & 3067 & ⋯ & 1 & 2 & 120 & 142 & 2014 & Yarra & -37.8072 & 144.9941 & Northern Metropolitan & 4019\\\\\n",
       "\t6 & Abbotsford & 129 Charles St   & 2 & h &  941000 & S  & Jellis & 7/05/2016 & 2.5 & 3067 & ⋯ & 1 & 0 & 181 &  NA &   NA & Yarra & -37.8041 & 144.9953 & Northern Metropolitan & 4019\\\\\n",
       "\\end{tabular}\n"
      ],
      "text/markdown": [
       "\n",
       "A data.frame: 6 × 21\n",
       "\n",
       "| <!--/--> | Suburb &lt;chr&gt; | Address &lt;chr&gt; | Rooms &lt;int&gt; | Type &lt;chr&gt; | Price &lt;dbl&gt; | Method &lt;chr&gt; | SellerG &lt;chr&gt; | Date &lt;chr&gt; | Distance &lt;dbl&gt; | Postcode &lt;dbl&gt; | ⋯ ⋯ | Bathroom &lt;dbl&gt; | Car &lt;dbl&gt; | Landsize &lt;dbl&gt; | BuildingArea &lt;dbl&gt; | YearBuilt &lt;dbl&gt; | CouncilArea &lt;chr&gt; | Lattitude &lt;dbl&gt; | Longtitude &lt;dbl&gt; | Regionname &lt;chr&gt; | Propertycount &lt;dbl&gt; |\n",
       "|---|---|---|---|---|---|---|---|---|---|---|---|---|---|---|---|---|---|---|---|---|---|\n",
       "| 1 | Abbotsford | 85 Turner St     | 2 | h | 1480000 | S  | Biggin | 3/12/2016 | 2.5 | 3067 | ⋯ | 1 | 1 | 202 |  NA |   NA | Yarra | -37.7996 | 144.9984 | Northern Metropolitan | 4019 |\n",
       "| 2 | Abbotsford | 25 Bloomburg St  | 2 | h | 1035000 | S  | Biggin | 4/02/2016 | 2.5 | 3067 | ⋯ | 1 | 0 | 156 |  79 | 1900 | Yarra | -37.8079 | 144.9934 | Northern Metropolitan | 4019 |\n",
       "| 3 | Abbotsford | 5 Charles St     | 3 | h | 1465000 | SP | Biggin | 4/03/2017 | 2.5 | 3067 | ⋯ | 2 | 0 | 134 | 150 | 1900 | Yarra | -37.8093 | 144.9944 | Northern Metropolitan | 4019 |\n",
       "| 4 | Abbotsford | 40 Federation La | 3 | h |  850000 | PI | Biggin | 4/03/2017 | 2.5 | 3067 | ⋯ | 2 | 1 |  94 |  NA |   NA | Yarra | -37.7969 | 144.9969 | Northern Metropolitan | 4019 |\n",
       "| 5 | Abbotsford | 55a Park St      | 4 | h | 1600000 | VB | Nelson | 4/06/2016 | 2.5 | 3067 | ⋯ | 1 | 2 | 120 | 142 | 2014 | Yarra | -37.8072 | 144.9941 | Northern Metropolitan | 4019 |\n",
       "| 6 | Abbotsford | 129 Charles St   | 2 | h |  941000 | S  | Jellis | 7/05/2016 | 2.5 | 3067 | ⋯ | 1 | 0 | 181 |  NA |   NA | Yarra | -37.8041 | 144.9953 | Northern Metropolitan | 4019 |\n",
       "\n"
      ],
      "text/plain": [
       "  Suburb     Address          Rooms Type Price   Method SellerG Date     \n",
       "1 Abbotsford 85 Turner St     2     h    1480000 S      Biggin  3/12/2016\n",
       "2 Abbotsford 25 Bloomburg St  2     h    1035000 S      Biggin  4/02/2016\n",
       "3 Abbotsford 5 Charles St     3     h    1465000 SP     Biggin  4/03/2017\n",
       "4 Abbotsford 40 Federation La 3     h     850000 PI     Biggin  4/03/2017\n",
       "5 Abbotsford 55a Park St      4     h    1600000 VB     Nelson  4/06/2016\n",
       "6 Abbotsford 129 Charles St   2     h     941000 S      Jellis  7/05/2016\n",
       "  Distance Postcode ⋯ Bathroom Car Landsize BuildingArea YearBuilt CouncilArea\n",
       "1 2.5      3067     ⋯ 1        1   202       NA            NA      Yarra      \n",
       "2 2.5      3067     ⋯ 1        0   156       79          1900      Yarra      \n",
       "3 2.5      3067     ⋯ 2        0   134      150          1900      Yarra      \n",
       "4 2.5      3067     ⋯ 2        1    94       NA            NA      Yarra      \n",
       "5 2.5      3067     ⋯ 1        2   120      142          2014      Yarra      \n",
       "6 2.5      3067     ⋯ 1        0   181       NA            NA      Yarra      \n",
       "  Lattitude Longtitude Regionname            Propertycount\n",
       "1 -37.7996  144.9984   Northern Metropolitan 4019         \n",
       "2 -37.8079  144.9934   Northern Metropolitan 4019         \n",
       "3 -37.8093  144.9944   Northern Metropolitan 4019         \n",
       "4 -37.7969  144.9969   Northern Metropolitan 4019         \n",
       "5 -37.8072  144.9941   Northern Metropolitan 4019         \n",
       "6 -37.8041  144.9953   Northern Metropolitan 4019         "
      ]
     },
     "metadata": {},
     "output_type": "display_data"
    }
   ],
   "source": [
    "head(dataset)"
   ]
  },
  {
   "cell_type": "code",
   "execution_count": 3,
   "id": "936f6386-11a6-4ccf-a981-8eaa7b27aca2",
   "metadata": {},
   "outputs": [
    {
     "name": "stdout",
     "output_type": "stream",
     "text": [
      "       Suburb       Address         Rooms          Type         Price \n",
      "            0             0             0             0             0 \n",
      "       Method       SellerG          Date      Distance      Postcode \n",
      "            0             0             0             0             0 \n",
      "     Bedroom2      Bathroom           Car      Landsize  BuildingArea \n",
      "            0             0            62             0          6450 \n",
      "    YearBuilt   CouncilArea     Lattitude    Longtitude    Regionname \n",
      "         5375             0             0             0             0 \n",
      "Propertycount \n",
      "            0 \n"
     ]
    }
   ],
   "source": [
    "missing_values <- colSums(is.na(dataset))\n",
    "print(missing_values)"
   ]
  },
  {
   "cell_type": "code",
   "execution_count": 4,
   "id": "f27dc5cf-8a51-4aef-b457-3da12114a6ed",
   "metadata": {},
   "outputs": [
    {
     "name": "stdout",
     "output_type": "stream",
     "text": [
      "[1] 1964.684\n"
     ]
    }
   ],
   "source": [
    "mean_year_built <- mean(dataset$YearBuilt, na.rm = TRUE)\n",
    "print(mean_year_built)"
   ]
  }
 ],
 "metadata": {
  "kernelspec": {
   "display_name": "R",
   "language": "R",
   "name": "ir"
  },
  "language_info": {
   "codemirror_mode": "r",
   "file_extension": ".r",
   "mimetype": "text/x-r-source",
   "name": "R",
   "pygments_lexer": "r",
   "version": "4.4.2"
  }
 },
 "nbformat": 4,
 "nbformat_minor": 5
}

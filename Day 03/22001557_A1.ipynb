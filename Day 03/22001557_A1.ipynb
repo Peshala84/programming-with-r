{
 "cells": [
  {
   "cell_type": "code",
   "execution_count": 1,
   "id": "20341a45-e453-428a-bf16-4cbb9c075d96",
   "metadata": {},
   "outputs": [],
   "source": [
    "dataset <- read.csv(\"Student Performance new.csv\")"
   ]
  },
  {
   "cell_type": "code",
   "execution_count": null,
   "id": "a76eaf23-e864-47a8-ae5b-089efb5a22a0",
   "metadata": {},
   "outputs": [],
   "source": [
    "print(dataset)"
   ]
  },
  {
   "cell_type": "code",
   "execution_count": 3,
   "id": "47b9d942-26e3-4a37-b563-ac645c1c457e",
   "metadata": {},
   "outputs": [],
   "source": [
    "colnames(dataset) <- c(\"id\", \"race\", \"edu\", \"lunch\", \"prep\", \"math\", \"read\", \"write\", \"gen\")"
   ]
  },
  {
   "cell_type": "code",
   "execution_count": null,
   "id": "bd4099df-66df-45b8-8bbd-cc23f5ee53da",
   "metadata": {},
   "outputs": [],
   "source": [
    "print(dataset)"
   ]
  },
  {
   "cell_type": "code",
   "execution_count": 5,
   "id": "4d3996db-d7a1-44b7-909a-bbe5df06e6dd",
   "metadata": {},
   "outputs": [],
   "source": [
    "dataset$math <- dataset$math * 100\n",
    "dataset$read <- dataset$read * 100\n",
    "dataset$write <- dataset$write * 100"
   ]
  },
  {
   "cell_type": "code",
   "execution_count": 8,
   "id": "d16dd64a-85b2-4bda-b314-f76a571ba141",
   "metadata": {},
   "outputs": [],
   "source": [
    "dataset$average <- rowMeans(dataset[,c(\"math\", \"read\", \"write\")])"
   ]
  },
  {
   "cell_type": "code",
   "execution_count": null,
   "id": "0fc3e759-68ec-4b7f-b036-d167488eb249",
   "metadata": {},
   "outputs": [],
   "source": [
    "print(dataset)"
   ]
  },
  {
   "cell_type": "code",
   "execution_count": 11,
   "id": "d0b4668b-697a-451a-94f6-c2c93715307d",
   "metadata": {},
   "outputs": [
    {
     "data": {
      "text/plain": [
       "   Min. 1st Qu.  Median    Mean 3rd Qu.    Max. \n",
       "   0.00   57.00   66.00   66.09   77.00  100.00 "
      ]
     },
     "metadata": {},
     "output_type": "display_data"
    }
   ],
   "source": [
    "summary(dataset$math)"
   ]
  },
  {
   "cell_type": "code",
   "execution_count": 12,
   "id": "55f9015c-321e-402f-b7b8-4573ace656d5",
   "metadata": {},
   "outputs": [
    {
     "data": {
      "text/plain": [
       "   Min. 1st Qu.  Median    Mean 3rd Qu.    Max. \n",
       "  17.00   59.00   70.00   69.17   79.00  100.00 "
      ]
     },
     "metadata": {},
     "output_type": "display_data"
    }
   ],
   "source": [
    "summary(dataset$read)"
   ]
  },
  {
   "cell_type": "code",
   "execution_count": 13,
   "id": "5e76f7ef-8eff-4dca-a320-d5b5990ab34e",
   "metadata": {},
   "outputs": [
    {
     "data": {
      "text/plain": [
       "   Min. 1st Qu.  Median    Mean 3rd Qu.    Max. \n",
       "  10.00   57.75   69.00   68.05   79.00  100.00 "
      ]
     },
     "metadata": {},
     "output_type": "display_data"
    }
   ],
   "source": [
    "summary(dataset$write)"
   ]
  },
  {
   "cell_type": "code",
   "execution_count": 17,
   "id": "42a4b787-074b-4a6e-9712-b3a8d7c9b06a",
   "metadata": {},
   "outputs": [
    {
     "name": "stdout",
     "output_type": "stream",
     "text": [
      "[1] \"group B\" \"group C\" \"group A\" \"group D\" \"group E\"\n"
     ]
    }
   ],
   "source": [
    "unique_race <- unique(dataset$race)\n",
    "print(unique_race)"
   ]
  },
  {
   "cell_type": "code",
   "execution_count": 18,
   "id": "008fc996-d891-44b4-ad98-a408b979ce0c",
   "metadata": {},
   "outputs": [
    {
     "name": "stdout",
     "output_type": "stream",
     "text": [
      "[1] \"bachelor's degree\"  \"some college\"       \"master's degree\"   \n",
      "[4] \"associate's degree\" \"high school\"        \"some high school\"  \n"
     ]
    }
   ],
   "source": [
    "unique_edu <- unique(dataset$edu)\n",
    "print(unique_edu)"
   ]
  },
  {
   "cell_type": "code",
   "execution_count": 19,
   "id": "af465eb2-1879-4433-883a-9050000df5b0",
   "metadata": {},
   "outputs": [
    {
     "name": "stdout",
     "output_type": "stream",
     "text": [
      "[1] \"standard\"     \"free/reduced\"\n"
     ]
    }
   ],
   "source": [
    "unique_lunch <- unique(dataset$lunch)\n",
    "print(unique_lunch)"
   ]
  },
  {
   "cell_type": "code",
   "execution_count": 20,
   "id": "ae8f7367-ec07-47c3-aa31-2237b0b0eb56",
   "metadata": {},
   "outputs": [
    {
     "name": "stdout",
     "output_type": "stream",
     "text": [
      "[1] \"none\"      \"completed\"\n"
     ]
    }
   ],
   "source": [
    "unique_prep <- unique(dataset$prep)\n",
    "print(unique_prep)"
   ]
  },
  {
   "cell_type": "code",
   "execution_count": 21,
   "id": "c03b1ba8-3044-44a1-aaf8-61ec959b7496",
   "metadata": {},
   "outputs": [
    {
     "name": "stdout",
     "output_type": "stream",
     "text": [
      "[1] \"F\" \"M\"\n"
     ]
    }
   ],
   "source": [
    "unique_gen <- unique(dataset$gen)\n",
    "print(unique_gen)"
   ]
  },
  {
   "cell_type": "code",
   "execution_count": 25,
   "id": "ed9fc43d-170f-4e7a-8cd8-496bfa94b277",
   "metadata": {},
   "outputs": [
    {
     "name": "stdout",
     "output_type": "stream",
     "text": [
      "     race     math     read    write\n",
      "1 group A 61.62921 64.67416 62.67416\n",
      "2 group B 63.45263 67.35263 65.60000\n",
      "3 group C 64.46395 69.10345 67.82759\n",
      "4 group D 67.36260 70.03053 70.14504\n",
      "5 group E 73.82143 73.02857 71.40714\n"
     ]
    }
   ],
   "source": [
    "average_by_race <- aggregate(cbind(math, read, write) ~ race, data = dataset, FUN = mean)\n",
    "print(average_by_race)"
   ]
  },
  {
   "cell_type": "code",
   "execution_count": 26,
   "id": "9f10c82b-c403-40a1-81a5-cb3f28ee37d9",
   "metadata": {},
   "outputs": [
    {
     "name": "stdout",
     "output_type": "stream",
     "text": [
      "                 edu     math     read    write\n",
      "1 associate's degree 67.88288 70.92793 69.89640\n",
      "2  bachelor's degree 69.38983 73.00000 73.38136\n",
      "3        high school 62.13776 64.70408 62.44898\n",
      "4    master's degree 69.74576 75.37288 75.67797\n",
      "5       some college 67.12832 69.46018 68.84071\n",
      "6   some high school 63.49721 66.93855 64.88827\n"
     ]
    }
   ],
   "source": [
    "average_by_edu <- aggregate(cbind(math, read, write) ~ edu, data = dataset, FUN = mean)\n",
    "print(average_by_edu)"
   ]
  },
  {
   "cell_type": "code",
   "execution_count": 27,
   "id": "9b45f2b6-fe8d-4b8e-ae22-d3c5837a5f74",
   "metadata": {},
   "outputs": [
    {
     "name": "stdout",
     "output_type": "stream",
     "text": [
      "     race     math     read    write\n",
      "1 group A 61.62921 64.67416 62.67416\n",
      "2 group B 63.45263 67.35263 65.60000\n",
      "3 group C 64.46395 69.10345 67.82759\n",
      "4 group D 67.36260 70.03053 70.14504\n",
      "5 group E 73.82143 73.02857 71.40714\n"
     ]
    }
   ],
   "source": [
    "average_by_lunch <- aggregate(cbind(math, read, write) ~ lunch, data = dataset, FUN = mean)\n",
    "print(average_by_race)"
   ]
  },
  {
   "cell_type": "code",
   "execution_count": 28,
   "id": "f8226977-a58b-420d-9dd0-ce750a22d39d",
   "metadata": {},
   "outputs": [
    {
     "name": "stdout",
     "output_type": "stream",
     "text": [
      "       prep     math     read    write\n",
      "1 completed 69.69553 73.89385 74.41899\n",
      "2      none 64.07788 66.53427 64.50467\n"
     ]
    }
   ],
   "source": [
    "average_by_prep <- aggregate(cbind(math, read, write) ~ prep, data = dataset, FUN = mean)\n",
    "print(average_by_prep)"
   ]
  },
  {
   "cell_type": "code",
   "execution_count": 29,
   "id": "d8376311-3a6c-4a5f-b14a-d8be47cbae70",
   "metadata": {},
   "outputs": [
    {
     "name": "stdout",
     "output_type": "stream",
     "text": [
      "  gen     math     read    write\n",
      "1   F 63.63320 72.60811 72.46718\n",
      "2   M 68.72822 65.47303 63.31120\n"
     ]
    }
   ],
   "source": [
    "average_by_gen <- aggregate(cbind(math, read, write) ~ gen, data = dataset, FUN = mean)\n",
    "print(average_by_gen)"
   ]
  }
 ],
 "metadata": {
  "kernelspec": {
   "display_name": "R",
   "language": "R",
   "name": "ir"
  },
  "language_info": {
   "codemirror_mode": "r",
   "file_extension": ".r",
   "mimetype": "text/x-r-source",
   "name": "R",
   "pygments_lexer": "r",
   "version": "4.4.2"
  }
 },
 "nbformat": 4,
 "nbformat_minor": 5
}

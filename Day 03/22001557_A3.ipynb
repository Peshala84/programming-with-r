{
 "cells": [
  {
   "cell_type": "code",
   "execution_count": 1,
   "id": "a1af3ed8-bc42-4754-b0ef-6914718ef8d7",
   "metadata": {},
   "outputs": [],
   "source": [
    "emp_sal <- data.frame(\n",
    "  Emp_ID = c(11, 12, 13, 14, 15),\n",
    "  Dep = c(\"Sales\", \"HR\", \"Sales\", \"HR\", \"Sales\"),\n",
    "  Basic = c(25450, 22500, 21000, 23500, 15000),\n",
    "  Allowances = c(5200, 4500, 3100, 2600, 1800)\n",
    ")"
   ]
  },
  {
   "cell_type": "code",
   "execution_count": 2,
   "id": "526aebb5-6710-4df9-ac37-322753d1d687",
   "metadata": {},
   "outputs": [
    {
     "name": "stdout",
     "output_type": "stream",
     "text": [
      "  Emp_ID   Dep Basic Allowances\n",
      "1     11 Sales 25450       5200\n",
      "2     12    HR 22500       4500\n",
      "3     13 Sales 21000       3100\n",
      "4     14    HR 23500       2600\n",
      "5     15 Sales 15000       1800\n"
     ]
    }
   ],
   "source": [
    "print(emp_sal)"
   ]
  },
  {
   "cell_type": "code",
   "execution_count": 3,
   "id": "33a67720-dd51-431c-83ea-8c363bb1d064",
   "metadata": {},
   "outputs": [],
   "source": [
    "emp_sal$net_sal <- emp_sal$Basic + emp_sal$Allowances"
   ]
  },
  {
   "cell_type": "code",
   "execution_count": 4,
   "id": "be3ab811-6629-4c20-8911-cbdc9af568cc",
   "metadata": {},
   "outputs": [
    {
     "name": "stdout",
     "output_type": "stream",
     "text": [
      "  Emp_ID   Dep Basic Allowances net_sal\n",
      "1     11 Sales 25450       5200   30650\n",
      "2     12    HR 22500       4500   27000\n",
      "3     13 Sales 21000       3100   24100\n",
      "4     14    HR 23500       2600   26100\n",
      "5     15 Sales 15000       1800   16800\n"
     ]
    }
   ],
   "source": [
    "print(emp_sal)"
   ]
  },
  {
   "cell_type": "code",
   "execution_count": 5,
   "id": "4b4be179-0054-4505-b264-de6de68966ec",
   "metadata": {},
   "outputs": [
    {
     "name": "stdout",
     "output_type": "stream",
     "text": [
      "[1] 30650 24100 16800\n"
     ]
    }
   ],
   "source": [
    "sales_net_salaries <- emp_sal$net_sal[emp_sal$Dep == \"Sales\"]\n",
    "print(sales_net_salaries)"
   ]
  },
  {
   "cell_type": "code",
   "execution_count": null,
   "id": "f7428978-9315-4eb1-ace1-cc06e91c7714",
   "metadata": {},
   "outputs": [],
   "source": []
  }
 ],
 "metadata": {
  "kernelspec": {
   "display_name": "R",
   "language": "R",
   "name": "ir"
  },
  "language_info": {
   "codemirror_mode": "r",
   "file_extension": ".r",
   "mimetype": "text/x-r-source",
   "name": "R",
   "pygments_lexer": "r",
   "version": "4.4.2"
  }
 },
 "nbformat": 4,
 "nbformat_minor": 5
}

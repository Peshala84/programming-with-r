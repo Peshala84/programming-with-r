{
 "cells": [
  {
   "cell_type": "code",
   "execution_count": 2,
   "id": "596b3ecf-3ec6-47c3-8259-56fd1eddbd0b",
   "metadata": {},
   "outputs": [
    {
     "name": "stdout",
     "output_type": "stream",
     "text": [
      "t-score: -1.06066 \n",
      "p-value: 0.2940446 \n",
      "Fail to reject the null hypothesis: No significant difference from 75.\n"
     ]
    }
   ],
   "source": [
    "#Activity 1 -question 1\n",
    "# Given data\n",
    "sample_mean <- 73.5\n",
    "hypothesized_mean <- 75\n",
    "sample_sd <- 10\n",
    "sample_size <- 50\n",
    "\n",
    "t_score <- (sample_mean - hypothesized_mean) / (sample_sd / sqrt(sample_size))\n",
    "\n",
    "df <- sample_size - 1\n",
    "\n",
    "p_value <- 2 * pt(abs(t_score), df, lower.tail = FALSE)\n",
    "\n",
    "cat(\"t-score:\", t_score, \"\\n\")\n",
    "cat(\"p-value:\", p_value, \"\\n\")\n",
    "\n",
    "alpha <- 0.05\n",
    "if (p_value < alpha) {\n",
    "  cat(\"Reject the null hypothesis: The mean score is significantly different from 75.\\n\")\n",
    "} else {\n",
    "  cat(\"Fail to reject the null hypothesis: No significant difference from 75.\\n\")\n",
    "}\n",
    "\n"
   ]
  },
  {
   "cell_type": "code",
   "execution_count": 2,
   "id": "08b70927-ce23-4b0d-8cef-ee70c9674a51",
   "metadata": {},
   "outputs": [
    {
     "name": "stdout",
     "output_type": "stream",
     "text": [
      "t-score: -2.349121 \n",
      "p-value: 0.01198877 \n",
      "Reject the null hypothesis: The average production time is significantly less than 30 minutes.\n"
     ]
    }
   ],
   "source": [
    "#Activity 1 - question 2\n",
    "sample_mean <- 28.7\n",
    "hypothesized_mean <- 30\n",
    "sample_sd <- 3.5\n",
    "sample_size <- 40\n",
    "\n",
    "t_score <- (sample_mean - hypothesized_mean) / (sample_sd / sqrt(sample_size))\n",
    "\n",
    "df <- sample_size - 1\n",
    "\n",
    "p_value <- pt(t_score, df, lower.tail = TRUE)\n",
    "\n",
    "cat(\"t-score:\", t_score, \"\\n\")\n",
    "cat(\"p-value:\", p_value, \"\\n\")\n",
    "\n",
    "alpha <- 0.05\n",
    "if (p_value < alpha) {\n",
    "  cat(\"Reject the null hypothesis: The average production time is significantly less than 30 minutes.\\n\")\n",
    "} else {\n",
    "  cat(\"Fail to reject the null hypothesis: No significant evidence that production time is less than 30 minutes.\\n\")\n",
    "}\n"
   ]
  },
  {
   "cell_type": "code",
   "execution_count": 3,
   "id": "c2a9c2be-9907-4205-99a9-cac9c128b37b",
   "metadata": {},
   "outputs": [
    {
     "name": "stdout",
     "output_type": "stream",
     "text": [
      "t-score: -2.146625 \n",
      "p-value: 0.01868759 \n",
      "Reject the null hypothesis: The average fuel efficiency is significantly less than 25 MPG.\n"
     ]
    }
   ],
   "source": [
    "#Activity 2 - question 1\n",
    "\n",
    "sample_mean <- 24.2\n",
    "hypothesized_mean <- 25\n",
    "sample_sd <- 2.5\n",
    "sample_size <- 45\n",
    "\n",
    "t_score <- (sample_mean - hypothesized_mean) / (sample_sd / sqrt(sample_size))\n",
    "\n",
    "df <- sample_size - 1\n",
    "\n",
    "p_value <- pt(t_score, df, lower.tail = TRUE)\n",
    "\n",
    "cat(\"t-score:\", t_score, \"\\n\")\n",
    "cat(\"p-value:\", p_value, \"\\n\")\n",
    "\n",
    "alpha <- 0.05\n",
    "if (p_value < alpha) {\n",
    "  cat(\"Reject the null hypothesis: The average fuel efficiency is significantly less than 25 MPG.\\n\")\n",
    "} else {\n",
    "  cat(\"Fail to reject the null hypothesis: No significant evidence that fuel efficiency is less than 25 MPG.\\n\")\n",
    "}\n"
   ]
  },
  {
   "cell_type": "code",
   "execution_count": 4,
   "id": "2ca34520-c5e9-4582-8541-3142a7067c0a",
   "metadata": {},
   "outputs": [
    {
     "name": "stdout",
     "output_type": "stream",
     "text": [
      "t-score: -1.767767 \n",
      "p-value: 0.04166308 \n",
      "Reject the null hypothesis: The average blood pressure is significantly lower than 120 mmHg.\n"
     ]
    }
   ],
   "source": [
    "#Activity 2 - question 2\n",
    "\n",
    "sample_mean <- 118.5\n",
    "hypothesized_mean <- 120\n",
    "sample_sd <- 6\n",
    "sample_size <- 50\n",
    "\n",
    "t_score <- (sample_mean - hypothesized_mean) / (sample_sd / sqrt(sample_size))\n",
    "\n",
    "df <- sample_size - 1\n",
    "\n",
    "p_value <- pt(t_score, df, lower.tail = TRUE)\n",
    "\n",
    "cat(\"t-score:\", t_score, \"\\n\")\n",
    "cat(\"p-value:\", p_value, \"\\n\")\n",
    "\n",
    "alpha <- 0.05\n",
    "if (p_value < alpha) {\n",
    "  cat(\"Reject the null hypothesis: The average blood pressure is significantly lower than 120 mmHg.\\n\")\n",
    "} else {\n",
    "  cat(\"Fail to reject the null hypothesis: No significant evidence that blood pressure is lower than 120 mmHg.\\n\")\n",
    "}\n"
   ]
  },
  {
   "cell_type": "code",
   "execution_count": 5,
   "id": "bf70ee92-6e93-4b1f-b6ab-ba56f8c3ae09",
   "metadata": {},
   "outputs": [
    {
     "name": "stdout",
     "output_type": "stream",
     "text": [
      "t-statistic: 2.95804 \n",
      "Critical value: 1.690924 \n",
      "p-value: 0.002799823 \n",
      "Reject the null hypothesis: The average bill is more than $100.\n"
     ]
    }
   ],
   "source": [
    "#Activity 3 - question 1\n",
    "\n",
    "sample_size <- 35\n",
    "sample_mean <- 104\n",
    "sample_sd <- 8\n",
    "population_mean <- 100\n",
    "alpha <- 0.05\n",
    "\n",
    "t_statistic <- (sample_mean - population_mean) / (sample_sd / sqrt(sample_size))\n",
    "\n",
    "df <- sample_size - 1\n",
    "\n",
    "critical_value <- qt(1 - alpha, df)\n",
    "\n",
    "p_value <- 1 - pt(t_statistic, df)\n",
    "\n",
    "cat(\"t-statistic:\", t_statistic, \"\\n\")\n",
    "cat(\"Critical value:\", critical_value, \"\\n\")\n",
    "cat(\"p-value:\", p_value, \"\\n\")\n",
    "\n",
    "if (t_statistic > critical_value) {\n",
    "  cat(\"Reject the null hypothesis: The average bill is more than $100.\\n\")\n",
    "} else {\n",
    "  cat(\"Fail to reject the null hypothesis: The average bill is not significantly more than $100.\\n\")\n",
    "}\n"
   ]
  },
  {
   "cell_type": "code",
   "execution_count": 6,
   "id": "625dec7b-d766-49c6-b598-59857b3b3abe",
   "metadata": {},
   "outputs": [
    {
     "name": "stdout",
     "output_type": "stream",
     "text": [
      "t-statistic: 3.794733 \n",
      "Critical value: 1.684875 \n",
      "p-value: 0.0002516069 \n",
      "Reject the null hypothesis: The average body temperature is more than 98.6°F.\n"
     ]
    }
   ],
   "source": [
    "# Activity 3 - question 2\n",
    "\n",
    "sample_size <- 40\n",
    "sample_mean <- 98.9\n",
    "sample_sd <- 0.5\n",
    "population_mean <- 98.6\n",
    "alpha <- 0.05\n",
    "\n",
    "t_statistic <- (sample_mean - population_mean) / (sample_sd / sqrt(sample_size))\n",
    "\n",
    "df <- sample_size - 1\n",
    "\n",
    "critical_value <- qt(1 - alpha, df)\n",
    "\n",
    "p_value <- 1 - pt(t_statistic, df)\n",
    "\n",
    "cat(\"t-statistic:\", t_statistic, \"\\n\")\n",
    "cat(\"Critical value:\", critical_value, \"\\n\")\n",
    "cat(\"p-value:\", p_value, \"\\n\")\n",
    "\n",
    "if (t_statistic > critical_value) {\n",
    "  cat(\"Reject the null hypothesis: The average body temperature is more than 98.6°F.\\n\")\n",
    "} else {\n",
    "  cat(\"Fail to reject the null hypothesis: The average body temperature is not significantly more than 98.6°F.\\n\")\n",
    "}\n"
   ]
  },
  {
   "cell_type": "code",
   "execution_count": 4,
   "id": "edec19cb-ca58-4f98-b11e-d74e54cf32e1",
   "metadata": {},
   "outputs": [
    {
     "name": "stdout",
     "output_type": "stream",
     "text": [
      "z-statistic: -2.5 \n",
      "Critical z-value: 1.959964 \n",
      "p-value: 0.01241933 \n",
      "Reject the null hypothesis: The battery life is significantly different from 10 hours.\n"
     ]
    }
   ],
   "source": [
    "# Activity 4 - question 1\n",
    "sample_size <- 36\n",
    "sample_mean <- 9.5\n",
    "population_mean <- 10\n",
    "std_dev <- 1.2\n",
    "alpha <- 0.05\n",
    "\n",
    "z_statistic <- (sample_mean - population_mean) / (std_dev / sqrt(sample_size))\n",
    "\n",
    "critical_value <- qnorm(1 - alpha / 2)\n",
    "\n",
    "p_value <- 2 * (1 - pnorm(abs(z_statistic)))  # Two-tailed test\n",
    "\n",
    "cat(\"z-statistic:\", z_statistic, \"\\n\")\n",
    "cat(\"Critical z-value:\", critical_value, \"\\n\")\n",
    "cat(\"p-value:\", p_value, \"\\n\")\n",
    "\n",
    "if (abs(z_statistic) > critical_value) {\n",
    "  cat(\"Reject the null hypothesis: The battery life is significantly different from 10 hours.\\n\")\n",
    "} else {\n",
    "  cat(\"Fail to reject the null hypothesis: The battery life is not significantly different from 10 hours.\\n\")\n",
    "}\n"
   ]
  },
  {
   "cell_type": "code",
   "execution_count": 1,
   "id": "8e94cc44-398f-4cc8-9cc8-b71f380d6d5b",
   "metadata": {},
   "outputs": [
    {
     "name": "stdout",
     "output_type": "stream",
     "text": [
      "z-statistic: 2.4 \n",
      "Critical z-value: 2.575829 \n",
      "p-value: 0.01639507 \n",
      "Fail to reject the null hypothesis: The average waiting time is not significantly different from 15 minutes.\n"
     ]
    }
   ],
   "source": [
    "# Activity 4 - question 2\n",
    "\n",
    "sample_size <- 49\n",
    "sample_mean <- 16.2\n",
    "population_mean <- 15\n",
    "std_dev <- 3.5\n",
    "alpha <- 0.01\n",
    "\n",
    "z_statistic <- (sample_mean - population_mean) / (std_dev / sqrt(sample_size))\n",
    "\n",
    "critical_value <- qnorm(1 - alpha / 2)\n",
    "\n",
    "p_value <- 2 * (1 - pnorm(abs(z_statistic)))  # Two-tailed test\n",
    "\n",
    "cat(\"z-statistic:\", z_statistic, \"\\n\")\n",
    "cat(\"Critical z-value:\", critical_value, \"\\n\")\n",
    "cat(\"p-value:\", p_value, \"\\n\")\n",
    "\n",
    "if (abs(z_statistic) > critical_value) {\n",
    "  cat(\"Reject the null hypothesis: The average waiting time is significantly different from 15 minutes.\\n\")\n",
    "} else {\n",
    "  cat(\"Fail to reject the null hypothesis: The average waiting time is not significantly different from 15 minutes.\\n\")\n",
    "}\n"
   ]
  },
  {
   "cell_type": "code",
   "execution_count": null,
   "id": "972af619-5718-4d9b-883d-e536b9ac2084",
   "metadata": {},
   "outputs": [],
   "source": []
  }
 ],
 "metadata": {
  "kernelspec": {
   "display_name": "R",
   "language": "R",
   "name": "ir"
  },
  "language_info": {
   "codemirror_mode": "r",
   "file_extension": ".r",
   "mimetype": "text/x-r-source",
   "name": "R",
   "pygments_lexer": "r",
   "version": "4.4.2"
  }
 },
 "nbformat": 4,
 "nbformat_minor": 5
}
